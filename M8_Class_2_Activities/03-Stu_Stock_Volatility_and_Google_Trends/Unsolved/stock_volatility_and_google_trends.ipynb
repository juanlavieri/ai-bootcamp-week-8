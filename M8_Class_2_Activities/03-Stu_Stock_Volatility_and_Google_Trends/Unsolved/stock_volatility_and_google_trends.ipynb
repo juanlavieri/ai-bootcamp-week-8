{
 "cells": [
  {
   "cell_type": "code",
   "execution_count": 1,
   "metadata": {},
   "outputs": [],
   "source": [
    "# Import the required libraries and dependencies\n",
    "import numpy as np\n",
    "import pandas as pd"
   ]
  },
  {
   "cell_type": "code",
   "execution_count": 2,
   "metadata": {},
   "outputs": [
    {
     "name": "stderr",
     "output_type": "stream",
     "text": [
      "/var/folders/cf/y6vhhqvs245bxntt_6f300v00000gp/T/ipykernel_72922/597171049.py:2: FutureWarning: The argument 'infer_datetime_format' is deprecated and will be removed in a future version. A strict version of it is now the default, see https://pandas.pydata.org/pdeps/0004-consistent-to-datetime-parsing.html. You can safely remove this argument.\n",
      "  df_stock = pd.read_csv(\n"
     ]
    },
    {
     "data": {
      "text/html": [
       "<div>\n",
       "<style scoped>\n",
       "    .dataframe tbody tr th:only-of-type {\n",
       "        vertical-align: middle;\n",
       "    }\n",
       "\n",
       "    .dataframe tbody tr th {\n",
       "        vertical-align: top;\n",
       "    }\n",
       "\n",
       "    .dataframe thead th {\n",
       "        text-align: right;\n",
       "    }\n",
       "</style>\n",
       "<table border=\"1\" class=\"dataframe\">\n",
       "  <thead>\n",
       "    <tr style=\"text-align: right;\">\n",
       "      <th></th>\n",
       "      <th>close</th>\n",
       "    </tr>\n",
       "    <tr>\n",
       "      <th>date</th>\n",
       "      <th></th>\n",
       "    </tr>\n",
       "  </thead>\n",
       "  <tbody>\n",
       "    <tr>\n",
       "      <th>2015-10-19</th>\n",
       "      <td>27.93</td>\n",
       "    </tr>\n",
       "    <tr>\n",
       "      <th>2015-10-20</th>\n",
       "      <td>28.44</td>\n",
       "    </tr>\n",
       "    <tr>\n",
       "      <th>2015-10-21</th>\n",
       "      <td>28.44</td>\n",
       "    </tr>\n",
       "    <tr>\n",
       "      <th>2015-10-22</th>\n",
       "      <td>28.88</td>\n",
       "    </tr>\n",
       "    <tr>\n",
       "      <th>2015-10-23</th>\n",
       "      <td>29.77</td>\n",
       "    </tr>\n",
       "  </tbody>\n",
       "</table>\n",
       "</div>"
      ],
      "text/plain": [
       "            close\n",
       "date             \n",
       "2015-10-19  27.93\n",
       "2015-10-20  28.44\n",
       "2015-10-21  28.44\n",
       "2015-10-22  28.88\n",
       "2015-10-23  29.77"
      ]
     },
     "execution_count": 2,
     "metadata": {},
     "output_type": "execute_result"
    }
   ],
   "source": [
    "# Read the data from the apple-price.csv file into a Pandas DataFrame\n",
    "df_stock = pd.read_csv(\n",
    "    \"../Resources/aapl-price.csv\", \n",
    "    index_col=\"date\", \n",
    "    parse_dates=True, \n",
    "    infer_datetime_format=True\n",
    ")\n",
    "\n",
    "# Review the DataFrame\n",
    "df_stock.head()"
   ]
  },
  {
   "cell_type": "code",
   "execution_count": 18,
   "metadata": {},
   "outputs": [
    {
     "name": "stderr",
     "output_type": "stream",
     "text": [
      "/var/folders/cf/y6vhhqvs245bxntt_6f300v00000gp/T/ipykernel_72922/98708399.py:2: FutureWarning: The argument 'infer_datetime_format' is deprecated and will be removed in a future version. A strict version of it is now the default, see https://pandas.pydata.org/pdeps/0004-consistent-to-datetime-parsing.html. You can safely remove this argument.\n",
      "  df_trends = pd.read_csv(\n"
     ]
    },
    {
     "data": {
      "text/html": [
       "<div>\n",
       "<style scoped>\n",
       "    .dataframe tbody tr th:only-of-type {\n",
       "        vertical-align: middle;\n",
       "    }\n",
       "\n",
       "    .dataframe tbody tr th {\n",
       "        vertical-align: top;\n",
       "    }\n",
       "\n",
       "    .dataframe thead th {\n",
       "        text-align: right;\n",
       "    }\n",
       "</style>\n",
       "<table border=\"1\" class=\"dataframe\">\n",
       "  <thead>\n",
       "    <tr style=\"text-align: right;\">\n",
       "      <th></th>\n",
       "      <th>trend-worldwide</th>\n",
       "    </tr>\n",
       "    <tr>\n",
       "      <th>date</th>\n",
       "      <th></th>\n",
       "    </tr>\n",
       "  </thead>\n",
       "  <tbody>\n",
       "    <tr>\n",
       "      <th>2015-10-23</th>\n",
       "      <td>32</td>\n",
       "    </tr>\n",
       "    <tr>\n",
       "      <th>2015-10-30</th>\n",
       "      <td>33</td>\n",
       "    </tr>\n",
       "    <tr>\n",
       "      <th>2015-11-06</th>\n",
       "      <td>32</td>\n",
       "    </tr>\n",
       "    <tr>\n",
       "      <th>2015-11-13</th>\n",
       "      <td>32</td>\n",
       "    </tr>\n",
       "    <tr>\n",
       "      <th>2015-11-20</th>\n",
       "      <td>31</td>\n",
       "    </tr>\n",
       "  </tbody>\n",
       "</table>\n",
       "</div>"
      ],
      "text/plain": [
       "            trend-worldwide\n",
       "date                       \n",
       "2015-10-23               32\n",
       "2015-10-30               33\n",
       "2015-11-06               32\n",
       "2015-11-13               32\n",
       "2015-11-20               31"
      ]
     },
     "execution_count": 18,
     "metadata": {},
     "output_type": "execute_result"
    }
   ],
   "source": [
    "# Read the data from the apple-trends.csv file into a Pandas DataFrame\n",
    "df_trends = pd.read_csv(\n",
    "    \"../Resources/apple-trends.csv\", \n",
    "    index_col=\"date\", \n",
    "    parse_dates=True, \n",
    "    infer_datetime_format=True\n",
    ")\n",
    "\n",
    "# Review the DataFrame\n",
    "df_trends.head()"
   ]
  },
  {
   "cell_type": "markdown",
   "metadata": {},
   "source": [
    "#### Step 2: Concatenate the `df_stock` DataFrame to the `df_trends` DataFrame, creating a single DataFrame named `df_apple`.\n",
    "\n",
    "> **Rewind** Concatenation: Two DataFrames that have the same `datetime` index can be merged using `pd.concat`. The `axis=1` parameter means that we're bringing the columns of the two DataFrames together."
   ]
  },
  {
   "cell_type": "code",
   "execution_count": 19,
   "metadata": {},
   "outputs": [
    {
     "data": {
      "text/html": [
       "<div>\n",
       "<style scoped>\n",
       "    .dataframe tbody tr th:only-of-type {\n",
       "        vertical-align: middle;\n",
       "    }\n",
       "\n",
       "    .dataframe tbody tr th {\n",
       "        vertical-align: top;\n",
       "    }\n",
       "\n",
       "    .dataframe thead th {\n",
       "        text-align: right;\n",
       "    }\n",
       "</style>\n",
       "<table border=\"1\" class=\"dataframe\">\n",
       "  <thead>\n",
       "    <tr style=\"text-align: right;\">\n",
       "      <th></th>\n",
       "      <th>close</th>\n",
       "      <th>trend-worldwide</th>\n",
       "    </tr>\n",
       "    <tr>\n",
       "      <th>date</th>\n",
       "      <th></th>\n",
       "      <th></th>\n",
       "    </tr>\n",
       "  </thead>\n",
       "  <tbody>\n",
       "    <tr>\n",
       "      <th>2015-10-23</th>\n",
       "      <td>29.77</td>\n",
       "      <td>32.0</td>\n",
       "    </tr>\n",
       "    <tr>\n",
       "      <th>2015-10-30</th>\n",
       "      <td>29.88</td>\n",
       "      <td>33.0</td>\n",
       "    </tr>\n",
       "    <tr>\n",
       "      <th>2015-11-06</th>\n",
       "      <td>30.27</td>\n",
       "      <td>32.0</td>\n",
       "    </tr>\n",
       "    <tr>\n",
       "      <th>2015-11-13</th>\n",
       "      <td>28.09</td>\n",
       "      <td>32.0</td>\n",
       "    </tr>\n",
       "    <tr>\n",
       "      <th>2015-11-20</th>\n",
       "      <td>29.83</td>\n",
       "      <td>31.0</td>\n",
       "    </tr>\n",
       "  </tbody>\n",
       "</table>\n",
       "</div>"
      ],
      "text/plain": [
       "            close  trend-worldwide\n",
       "date                              \n",
       "2015-10-23  29.77             32.0\n",
       "2015-10-30  29.88             33.0\n",
       "2015-11-06  30.27             32.0\n",
       "2015-11-13  28.09             32.0\n",
       "2015-11-20  29.83             31.0"
      ]
     },
     "execution_count": 19,
     "metadata": {},
     "output_type": "execute_result"
    }
   ],
   "source": [
    "# Concatenate Apple's stock price and Google trends data\n",
    "# Use a parameter of axis=1 to ensure the concatenation by columns\n",
    "# Chain the dropna function to remove any rows of data that do not \n",
    "# contain information in both columns\n",
    "df_apple = pd.concat([df_stock, df_trends], axis=1).dropna()\n",
    "\n",
    "\n",
    "\n",
    "# Review the df_apple DataFrame\n",
    "df_apple.head()\n"
   ]
  },
  {
   "cell_type": "markdown",
   "metadata": {},
   "source": [
    "### Step 3: Create a plot of the concatenated DataFrame and analyze any trends and correlations. Do you observe any seasonal patterns?\n",
    "\n",
    "> **Hint** You might find it useful to refer to the [Apple Events page](https://www.apple.com/apple-events/) and the [Timeline of Apple Inc. products](https://en.wikipedia.org/wiki/Timeline_of_Apple_Inc._products) to spotlight moments over time that could have triggered a particular pattern."
   ]
  },
  {
   "cell_type": "code",
   "execution_count": 20,
   "metadata": {},
   "outputs": [
    {
     "name": "stderr",
     "output_type": "stream",
     "text": [
      "/Users/juanlavierigoiri/anaconda3/lib/python3.11/site-packages/holoviews/core/data/pandas.py:39: FutureWarning: Series.__getitem__ treating keys as positions is deprecated. In a future version, integer keys will always be treated as labels (consistent with DataFrame behavior). To access a value by position, use `ser.iloc[pos]`\n",
      "  return dataset.data.dtypes[idx].type\n",
      "/Users/juanlavierigoiri/anaconda3/lib/python3.11/site-packages/holoviews/core/data/pandas.py:39: FutureWarning: Series.__getitem__ treating keys as positions is deprecated. In a future version, integer keys will always be treated as labels (consistent with DataFrame behavior). To access a value by position, use `ser.iloc[pos]`\n",
      "  return dataset.data.dtypes[idx].type\n"
     ]
    },
    {
     "data": {},
     "metadata": {},
     "output_type": "display_data"
    },
    {
     "data": {
      "application/vnd.holoviews_exec.v0+json": "",
      "text/html": [
       "<div id='p1186'>\n",
       "  <div id=\"ec612260-c69b-4d12-a36b-292f9b752bce\" data-root-id=\"p1186\" style=\"display: contents;\"></div>\n",
       "</div>\n",
       "<script type=\"application/javascript\">(function(root) {\n",
       "  var docs_json = {\"c88a272f-4ddd-4857-9ee8-8c8a2a50b539\":{\"version\":\"3.2.1\",\"title\":\"Bokeh Application\",\"roots\":[{\"type\":\"object\",\"name\":\"Row\",\"id\":\"p1186\",\"attributes\":{\"name\":\"Row01259\",\"tags\":[\"embedded\"],\"stylesheets\":[\"\\n:host(.pn-loading.pn-arc):before, .pn-loading.pn-arc:before {\\n  background-image: url(\\\"data:image/svg+xml;base64,PHN2ZyB4bWxucz0iaHR0cDovL3d3dy53My5vcmcvMjAwMC9zdmciIHN0eWxlPSJtYXJnaW46IGF1dG87IGJhY2tncm91bmQ6IG5vbmU7IGRpc3BsYXk6IGJsb2NrOyBzaGFwZS1yZW5kZXJpbmc6IGF1dG87IiB2aWV3Qm94PSIwIDAgMTAwIDEwMCIgcHJlc2VydmVBc3BlY3RSYXRpbz0ieE1pZFlNaWQiPiAgPGNpcmNsZSBjeD0iNTAiIGN5PSI1MCIgZmlsbD0ibm9uZSIgc3Ryb2tlPSIjYzNjM2MzIiBzdHJva2Utd2lkdGg9IjEwIiByPSIzNSIgc3Ryb2tlLWRhc2hhcnJheT0iMTY0LjkzMzYxNDMxMzQ2NDE1IDU2Ljk3Nzg3MTQzNzgyMTM4Ij4gICAgPGFuaW1hdGVUcmFuc2Zvcm0gYXR0cmlidXRlTmFtZT0idHJhbnNmb3JtIiB0eXBlPSJyb3RhdGUiIHJlcGVhdENvdW50PSJpbmRlZmluaXRlIiBkdXI9IjFzIiB2YWx1ZXM9IjAgNTAgNTA7MzYwIDUwIDUwIiBrZXlUaW1lcz0iMDsxIj48L2FuaW1hdGVUcmFuc2Zvcm0+ICA8L2NpcmNsZT48L3N2Zz4=\\\");\\n  background-size: auto calc(min(50%, 400px));\\n}\",{\"type\":\"object\",\"name\":\"ImportedStyleSheet\",\"id\":\"p1189\",\"attributes\":{\"url\":\"https://cdn.holoviz.org/panel/1.2.3/dist/css/loading.css\"}},{\"type\":\"object\",\"name\":\"ImportedStyleSheet\",\"id\":\"p1272\",\"attributes\":{\"url\":\"https://cdn.holoviz.org/panel/1.2.3/dist/css/listpanel.css\"}},{\"type\":\"object\",\"name\":\"ImportedStyleSheet\",\"id\":\"p1187\",\"attributes\":{\"url\":\"https://cdn.holoviz.org/panel/1.2.3/dist/bundled/theme/default.css\"}},{\"type\":\"object\",\"name\":\"ImportedStyleSheet\",\"id\":\"p1188\",\"attributes\":{\"url\":\"https://cdn.holoviz.org/panel/1.2.3/dist/bundled/theme/native.css\"}}],\"min_width\":700,\"margin\":0,\"sizing_mode\":\"stretch_width\",\"align\":\"start\",\"children\":[{\"type\":\"object\",\"name\":\"Spacer\",\"id\":\"p1190\",\"attributes\":{\"name\":\"HSpacer01270\",\"stylesheets\":[\"\\n:host(.pn-loading.pn-arc):before, .pn-loading.pn-arc:before {\\n  background-image: url(\\\"data:image/svg+xml;base64,PHN2ZyB4bWxucz0iaHR0cDovL3d3dy53My5vcmcvMjAwMC9zdmciIHN0eWxlPSJtYXJnaW46IGF1dG87IGJhY2tncm91bmQ6IG5vbmU7IGRpc3BsYXk6IGJsb2NrOyBzaGFwZS1yZW5kZXJpbmc6IGF1dG87IiB2aWV3Qm94PSIwIDAgMTAwIDEwMCIgcHJlc2VydmVBc3BlY3RSYXRpbz0ieE1pZFlNaWQiPiAgPGNpcmNsZSBjeD0iNTAiIGN5PSI1MCIgZmlsbD0ibm9uZSIgc3Ryb2tlPSIjYzNjM2MzIiBzdHJva2Utd2lkdGg9IjEwIiByPSIzNSIgc3Ryb2tlLWRhc2hhcnJheT0iMTY0LjkzMzYxNDMxMzQ2NDE1IDU2Ljk3Nzg3MTQzNzgyMTM4Ij4gICAgPGFuaW1hdGVUcmFuc2Zvcm0gYXR0cmlidXRlTmFtZT0idHJhbnNmb3JtIiB0eXBlPSJyb3RhdGUiIHJlcGVhdENvdW50PSJpbmRlZmluaXRlIiBkdXI9IjFzIiB2YWx1ZXM9IjAgNTAgNTA7MzYwIDUwIDUwIiBrZXlUaW1lcz0iMDsxIj48L2FuaW1hdGVUcmFuc2Zvcm0+ICA8L2NpcmNsZT48L3N2Zz4=\\\");\\n  background-size: auto calc(min(50%, 400px));\\n}\",{\"id\":\"p1189\"},{\"id\":\"p1187\"},{\"id\":\"p1188\"}],\"margin\":0,\"sizing_mode\":\"stretch_width\",\"align\":\"start\"}},{\"type\":\"object\",\"name\":\"Figure\",\"id\":\"p1201\",\"attributes\":{\"width\":700,\"height\":300,\"margin\":[5,10],\"sizing_mode\":\"fixed\",\"align\":\"start\",\"x_range\":{\"type\":\"object\",\"name\":\"Range1d\",\"id\":\"p1191\",\"attributes\":{\"tags\":[[[\"date\",\"date\",null]],[]],\"start\":1445558400000.0,\"end\":1602201600000.0,\"reset_start\":1445558400000.0,\"reset_end\":1602201600000.0}},\"y_range\":{\"type\":\"object\",\"name\":\"Range1d\",\"id\":\"p1192\",\"attributes\":{\"tags\":[[[\"value\",\"value\",null]],{\"type\":\"map\",\"entries\":[[\"invert_yaxis\",false],[\"autorange\",false]]}],\"start\":12.411999999999997,\"end\":135.028,\"reset_start\":12.411999999999997,\"reset_end\":135.028}},\"x_scale\":{\"type\":\"object\",\"name\":\"LinearScale\",\"id\":\"p1211\"},\"y_scale\":{\"type\":\"object\",\"name\":\"LinearScale\",\"id\":\"p1212\"},\"title\":{\"type\":\"object\",\"name\":\"Title\",\"id\":\"p1204\",\"attributes\":{\"text_color\":\"black\",\"text_font_size\":\"12pt\"}},\"renderers\":[{\"type\":\"object\",\"name\":\"GlyphRenderer\",\"id\":\"p1249\",\"attributes\":{\"name\":\"close\",\"data_source\":{\"type\":\"object\",\"name\":\"ColumnDataSource\",\"id\":\"p1240\",\"attributes\":{\"selected\":{\"type\":\"object\",\"name\":\"Selection\",\"id\":\"p1241\",\"attributes\":{\"indices\":[],\"line_indices\":[]}},\"selection_policy\":{\"type\":\"object\",\"name\":\"UnionRenderers\",\"id\":\"p1242\"},\"data\":{\"type\":\"map\",\"entries\":[[\"date\",{\"type\":\"ndarray\",\"array\":{\"type\":\"bytes\",\"data\":\"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\"},\"shape\":[252],\"dtype\":\"float64\",\"order\":\"little\"}],[\"value\",{\"type\":\"ndarray\",\"array\":{\"type\":\"bytes\",\"data\":\"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\"},\"shape\":[252],\"dtype\":\"float64\",\"order\":\"little\"}],[\"Variable\",[\"close\",\"close\",\"close\",\"close\",\"close\",\"close\",\"close\",\"close\",\"close\",\"close\",\"close\",\"close\",\"close\",\"close\",\"close\",\"close\",\"close\",\"close\",\"close\",\"close\",\"close\",\"close\",\"close\",\"close\",\"close\",\"close\",\"close\",\"close\",\"close\",\"close\",\"close\",\"close\",\"close\",\"close\",\"close\",\"close\",\"close\",\"close\",\"close\",\"close\",\"close\",\"close\",\"close\",\"close\",\"close\",\"close\",\"close\",\"close\",\"close\",\"close\",\"close\",\"close\",\"close\",\"close\",\"close\",\"close\",\"close\",\"close\",\"close\",\"close\",\"close\",\"close\",\"close\",\"close\",\"close\",\"close\",\"close\",\"close\",\"close\",\"close\",\"close\",\"close\",\"close\",\"close\",\"close\",\"close\",\"close\",\"close\",\"close\",\"close\",\"close\",\"close\",\"close\",\"close\",\"close\",\"close\",\"close\",\"close\",\"close\",\"close\",\"close\",\"close\",\"close\",\"close\",\"close\",\"close\",\"close\",\"close\",\"close\",\"close\",\"close\",\"close\",\"close\",\"close\",\"close\",\"close\",\"close\",\"close\",\"close\",\"close\",\"close\",\"close\",\"close\",\"close\",\"close\",\"close\",\"close\",\"close\",\"close\",\"close\",\"close\",\"close\",\"close\",\"close\",\"close\",\"close\",\"close\",\"close\",\"close\",\"close\",\"close\",\"close\",\"close\",\"close\",\"close\",\"close\",\"close\",\"close\",\"close\",\"close\",\"close\",\"close\",\"close\",\"close\",\"close\",\"close\",\"close\",\"close\",\"close\",\"close\",\"close\",\"close\",\"close\",\"close\",\"close\",\"close\",\"close\",\"close\",\"close\",\"close\",\"close\",\"close\",\"close\",\"close\",\"close\",\"close\",\"close\",\"close\",\"close\",\"close\",\"close\",\"close\",\"close\",\"close\",\"close\",\"close\",\"close\",\"close\",\"close\",\"close\",\"close\",\"close\",\"close\",\"close\",\"close\",\"close\",\"close\",\"close\",\"close\",\"close\",\"close\",\"close\",\"close\",\"close\",\"close\",\"close\",\"close\",\"close\",\"close\",\"close\",\"close\",\"close\",\"close\",\"close\",\"close\",\"close\",\"close\",\"close\",\"close\",\"close\",\"close\",\"close\",\"close\",\"close\",\"close\",\"close\",\"close\",\"close\",\"close\",\"close\",\"close\",\"close\",\"close\",\"close\",\"close\",\"close\",\"close\",\"close\",\"close\",\"close\",\"close\",\"close\",\"close\",\"close\",\"close\",\"close\",\"close\",\"close\",\"close\",\"close\",\"close\",\"close\",\"close\",\"close\",\"close\",\"close\",\"close\",\"close\",\"close\",\"close\",\"close\",\"close\"]]]}}},\"view\":{\"type\":\"object\",\"name\":\"CDSView\",\"id\":\"p1250\",\"attributes\":{\"filter\":{\"type\":\"object\",\"name\":\"AllIndices\",\"id\":\"p1251\"}}},\"glyph\":{\"type\":\"object\",\"name\":\"Line\",\"id\":\"p1246\",\"attributes\":{\"tags\":[\"apply_ranges\"],\"x\":{\"type\":\"field\",\"field\":\"date\"},\"y\":{\"type\":\"field\",\"field\":\"value\"},\"line_color\":\"#30a2da\",\"line_width\":2}},\"selection_glyph\":{\"type\":\"object\",\"name\":\"Line\",\"id\":\"p1254\",\"attributes\":{\"tags\":[\"apply_ranges\"],\"x\":{\"type\":\"field\",\"field\":\"date\"},\"y\":{\"type\":\"field\",\"field\":\"value\"},\"line_color\":\"#30a2da\",\"line_width\":2}},\"nonselection_glyph\":{\"type\":\"object\",\"name\":\"Line\",\"id\":\"p1247\",\"attributes\":{\"tags\":[\"apply_ranges\"],\"x\":{\"type\":\"field\",\"field\":\"date\"},\"y\":{\"type\":\"field\",\"field\":\"value\"},\"line_color\":\"#30a2da\",\"line_alpha\":0.1,\"line_width\":2}},\"muted_glyph\":{\"type\":\"object\",\"name\":\"Line\",\"id\":\"p1248\",\"attributes\":{\"tags\":[\"apply_ranges\"],\"x\":{\"type\":\"field\",\"field\":\"date\"},\"y\":{\"type\":\"field\",\"field\":\"value\"},\"line_color\":\"#30a2da\",\"line_alpha\":0.2,\"line_width\":2}}}},{\"type\":\"object\",\"name\":\"GlyphRenderer\",\"id\":\"p1264\",\"attributes\":{\"name\":\"trend-worldwide\",\"data_source\":{\"type\":\"object\",\"name\":\"ColumnDataSource\",\"id\":\"p1255\",\"attributes\":{\"selected\":{\"type\":\"object\",\"name\":\"Selection\",\"id\":\"p1256\",\"attributes\":{\"indices\":[],\"line_indices\":[]}},\"selection_policy\":{\"type\":\"object\",\"name\":\"UnionRenderers\",\"id\":\"p1257\"},\"data\":{\"type\":\"map\",\"entries\":[[\"date\",{\"type\":\"ndarray\",\"array\":{\"type\":\"bytes\",\"data\":\"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\"},\"shape\":[252],\"dtype\":\"float64\",\"order\":\"little\"}],[\"value\",{\"type\":\"ndarray\",\"array\":{\"type\":\"bytes\",\"data\":\"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\"},\"shape\":[252],\"dtype\":\"float64\",\"order\":\"little\"}],[\"Variable\",[\"trend-worldwide\",\"trend-worldwide\",\"trend-worldwide\",\"trend-worldwide\",\"trend-worldwide\",\"trend-worldwide\",\"trend-worldwide\",\"trend-worldwide\",\"trend-worldwide\",\"trend-worldwide\",\"trend-worldwide\",\"trend-worldwide\",\"trend-worldwide\",\"trend-worldwide\",\"trend-worldwide\",\"trend-worldwide\",\"trend-worldwide\",\"trend-worldwide\",\"trend-worldwide\",\"trend-worldwide\",\"trend-worldwide\",\"trend-worldwide\",\"trend-worldwide\",\"trend-worldwide\",\"trend-worldwide\",\"trend-worldwide\",\"trend-worldwide\",\"trend-worldwide\",\"trend-worldwide\",\"trend-worldwide\",\"trend-worldwide\",\"trend-worldwide\",\"trend-worldwide\",\"trend-worldwide\",\"trend-worldwide\",\"trend-worldwide\",\"trend-worldwide\",\"trend-worldwide\",\"trend-worldwide\",\"trend-worldwide\",\"trend-worldwide\",\"trend-worldwide\",\"trend-worldwide\",\"trend-worldwide\",\"trend-worldwide\",\"trend-worldwide\",\"trend-worldwide\",\"trend-worldwide\",\"trend-worldwide\",\"trend-worldwide\",\"trend-worldwide\",\"trend-worldwide\",\"trend-worldwide\",\"trend-worldwide\",\"trend-worldwide\",\"trend-worldwide\",\"trend-worldwide\",\"trend-worldwide\",\"trend-worldwide\",\"trend-worldwide\",\"trend-worldwide\",\"trend-worldwide\",\"trend-worldwide\",\"trend-worldwide\",\"trend-worldwide\",\"trend-worldwide\",\"trend-worldwide\",\"trend-worldwide\",\"trend-worldwide\",\"trend-worldwide\",\"trend-worldwide\",\"trend-worldwide\",\"trend-worldwide\",\"trend-worldwide\",\"trend-worldwide\",\"trend-worldwide\",\"trend-worldwide\",\"trend-worldwide\",\"trend-worldwide\",\"trend-worldwide\",\"trend-worldwide\",\"trend-worldwide\",\"trend-worldwide\",\"trend-worldwide\",\"trend-worldwide\",\"trend-worldwide\",\"trend-worldwide\",\"trend-worldwide\",\"trend-worldwide\",\"trend-worldwide\",\"trend-worldwide\",\"trend-worldwide\",\"trend-worldwide\",\"trend-worldwide\",\"trend-worldwide\",\"trend-worldwide\",\"trend-worldwide\",\"trend-worldwide\",\"trend-worldwide\",\"trend-worldwide\",\"trend-worldwide\",\"trend-worldwide\",\"trend-worldwide\",\"trend-worldwide\",\"trend-worldwide\",\"trend-worldwide\",\"trend-worldwide\",\"trend-worldwide\",\"trend-worldwide\",\"trend-worldwide\",\"trend-worldwide\",\"trend-worldwide\",\"trend-worldwide\",\"trend-worldwide\",\"trend-worldwide\",\"trend-worldwide\",\"trend-worldwide\",\"trend-worldwide\",\"trend-worldwide\",\"trend-worldwide\",\"trend-worldwide\",\"trend-worldwide\",\"trend-worldwide\",\"trend-worldwide\",\"trend-worldwide\",\"trend-worldwide\",\"trend-worldwide\",\"trend-worldwide\",\"trend-worldwide\",\"trend-worldwide\",\"trend-worldwide\",\"trend-worldwide\",\"trend-worldwide\",\"trend-worldwide\",\"trend-worldwide\",\"trend-worldwide\",\"trend-worldwide\",\"trend-worldwide\",\"trend-worldwide\",\"trend-worldwide\",\"trend-worldwide\",\"trend-worldwide\",\"trend-worldwide\",\"trend-worldwide\",\"trend-worldwide\",\"trend-worldwide\",\"trend-worldwide\",\"trend-worldwide\",\"trend-worldwide\",\"trend-worldwide\",\"trend-worldwide\",\"trend-worldwide\",\"trend-worldwide\",\"trend-worldwide\",\"trend-worldwide\",\"trend-worldwide\",\"trend-worldwide\",\"trend-worldwide\",\"trend-worldwide\",\"trend-worldwide\",\"trend-worldwide\",\"trend-worldwide\",\"trend-worldwide\",\"trend-worldwide\",\"trend-worldwide\",\"trend-worldwide\",\"trend-worldwide\",\"trend-worldwide\",\"trend-worldwide\",\"trend-worldwide\",\"trend-worldwide\",\"trend-worldwide\",\"trend-worldwide\",\"trend-worldwide\",\"trend-worldwide\",\"trend-worldwide\",\"trend-worldwide\",\"trend-worldwide\",\"trend-worldwide\",\"trend-worldwide\",\"trend-worldwide\",\"trend-worldwide\",\"trend-worldwide\",\"trend-worldwide\",\"trend-worldwide\",\"trend-worldwide\",\"trend-worldwide\",\"trend-worldwide\",\"trend-worldwide\",\"trend-worldwide\",\"trend-worldwide\",\"trend-worldwide\",\"trend-worldwide\",\"trend-worldwide\",\"trend-worldwide\",\"trend-worldwide\",\"trend-worldwide\",\"trend-worldwide\",\"trend-worldwide\",\"trend-worldwide\",\"trend-worldwide\",\"trend-worldwide\",\"trend-worldwide\",\"trend-worldwide\",\"trend-worldwide\",\"trend-worldwide\",\"trend-worldwide\",\"trend-worldwide\",\"trend-worldwide\",\"trend-worldwide\",\"trend-worldwide\",\"trend-worldwide\",\"trend-worldwide\",\"trend-worldwide\",\"trend-worldwide\",\"trend-worldwide\",\"trend-worldwide\",\"trend-worldwide\",\"trend-worldwide\",\"trend-worldwide\",\"trend-worldwide\",\"trend-worldwide\",\"trend-worldwide\",\"trend-worldwide\",\"trend-worldwide\",\"trend-worldwide\",\"trend-worldwide\",\"trend-worldwide\",\"trend-worldwide\",\"trend-worldwide\",\"trend-worldwide\",\"trend-worldwide\",\"trend-worldwide\",\"trend-worldwide\",\"trend-worldwide\",\"trend-worldwide\",\"trend-worldwide\",\"trend-worldwide\",\"trend-worldwide\",\"trend-worldwide\",\"trend-worldwide\",\"trend-worldwide\",\"trend-worldwide\",\"trend-worldwide\",\"trend-worldwide\",\"trend-worldwide\",\"trend-worldwide\",\"trend-worldwide\",\"trend-worldwide\",\"trend-worldwide\",\"trend-worldwide\",\"trend-worldwide\"]]]}}},\"view\":{\"type\":\"object\",\"name\":\"CDSView\",\"id\":\"p1265\",\"attributes\":{\"filter\":{\"type\":\"object\",\"name\":\"AllIndices\",\"id\":\"p1266\"}}},\"glyph\":{\"type\":\"object\",\"name\":\"Line\",\"id\":\"p1261\",\"attributes\":{\"tags\":[\"apply_ranges\"],\"x\":{\"type\":\"field\",\"field\":\"date\"},\"y\":{\"type\":\"field\",\"field\":\"value\"},\"line_color\":\"#fc4f30\",\"line_width\":2}},\"selection_glyph\":{\"type\":\"object\",\"name\":\"Line\",\"id\":\"p1268\",\"attributes\":{\"tags\":[\"apply_ranges\"],\"x\":{\"type\":\"field\",\"field\":\"date\"},\"y\":{\"type\":\"field\",\"field\":\"value\"},\"line_color\":\"#fc4f30\",\"line_width\":2}},\"nonselection_glyph\":{\"type\":\"object\",\"name\":\"Line\",\"id\":\"p1262\",\"attributes\":{\"tags\":[\"apply_ranges\"],\"x\":{\"type\":\"field\",\"field\":\"date\"},\"y\":{\"type\":\"field\",\"field\":\"value\"},\"line_color\":\"#fc4f30\",\"line_alpha\":0.1,\"line_width\":2}},\"muted_glyph\":{\"type\":\"object\",\"name\":\"Line\",\"id\":\"p1263\",\"attributes\":{\"tags\":[\"apply_ranges\"],\"x\":{\"type\":\"field\",\"field\":\"date\"},\"y\":{\"type\":\"field\",\"field\":\"value\"},\"line_color\":\"#fc4f30\",\"line_alpha\":0.2,\"line_width\":2}}}}],\"toolbar\":{\"type\":\"object\",\"name\":\"Toolbar\",\"id\":\"p1210\",\"attributes\":{\"tools\":[{\"type\":\"object\",\"name\":\"WheelZoomTool\",\"id\":\"p1196\",\"attributes\":{\"tags\":[\"hv_created\"],\"zoom_together\":\"none\"}},{\"type\":\"object\",\"name\":\"HoverTool\",\"id\":\"p1197\",\"attributes\":{\"tags\":[\"hv_created\"],\"renderers\":[{\"id\":\"p1249\"},{\"id\":\"p1264\"}],\"tooltips\":[[\"Variable\",\"@{Variable}\"],[\"date\",\"@{date}{%F %T}\"],[\"value\",\"@{value}\"]],\"formatters\":{\"type\":\"map\",\"entries\":[[\"@{date}\",\"datetime\"]]}}},{\"type\":\"object\",\"name\":\"SaveTool\",\"id\":\"p1235\"},{\"type\":\"object\",\"name\":\"PanTool\",\"id\":\"p1236\"},{\"type\":\"object\",\"name\":\"BoxZoomTool\",\"id\":\"p1237\",\"attributes\":{\"overlay\":{\"type\":\"object\",\"name\":\"BoxAnnotation\",\"id\":\"p1238\",\"attributes\":{\"syncable\":false,\"level\":\"overlay\",\"visible\":false,\"left_units\":\"canvas\",\"right_units\":\"canvas\",\"bottom_units\":\"canvas\",\"top_units\":\"canvas\",\"line_color\":\"black\",\"line_alpha\":1.0,\"line_width\":2,\"line_dash\":[4,4],\"fill_color\":\"lightgrey\",\"fill_alpha\":0.5}}}},{\"type\":\"object\",\"name\":\"ResetTool\",\"id\":\"p1239\"}],\"active_drag\":{\"id\":\"p1236\"},\"active_scroll\":{\"id\":\"p1196\"}}},\"left\":[{\"type\":\"object\",\"name\":\"LinearAxis\",\"id\":\"p1230\",\"attributes\":{\"ticker\":{\"type\":\"object\",\"name\":\"BasicTicker\",\"id\":\"p1231\",\"attributes\":{\"mantissas\":[1,2,5]}},\"formatter\":{\"type\":\"object\",\"name\":\"BasicTickFormatter\",\"id\":\"p1232\"},\"axis_label\":\"\",\"major_label_policy\":{\"type\":\"object\",\"name\":\"AllLabels\",\"id\":\"p1233\"}}}],\"right\":[{\"type\":\"object\",\"name\":\"Legend\",\"id\":\"p1252\",\"attributes\":{\"location\":[0,0],\"title\":\"Variable\",\"click_policy\":\"mute\",\"items\":[{\"type\":\"object\",\"name\":\"LegendItem\",\"id\":\"p1253\",\"attributes\":{\"label\":{\"type\":\"value\",\"value\":\"close\"},\"renderers\":[{\"id\":\"p1249\"}]}},{\"type\":\"object\",\"name\":\"LegendItem\",\"id\":\"p1267\",\"attributes\":{\"label\":{\"type\":\"value\",\"value\":\"trend-worldwide\"},\"renderers\":[{\"id\":\"p1264\"}]}}]}}],\"below\":[{\"type\":\"object\",\"name\":\"DatetimeAxis\",\"id\":\"p1213\",\"attributes\":{\"ticker\":{\"type\":\"object\",\"name\":\"DatetimeTicker\",\"id\":\"p1214\",\"attributes\":{\"num_minor_ticks\":5,\"tickers\":[{\"type\":\"object\",\"name\":\"AdaptiveTicker\",\"id\":\"p1215\",\"attributes\":{\"num_minor_ticks\":0,\"mantissas\":[1,2,5],\"max_interval\":500.0}},{\"type\":\"object\",\"name\":\"AdaptiveTicker\",\"id\":\"p1216\",\"attributes\":{\"num_minor_ticks\":0,\"base\":60,\"mantissas\":[1,2,5,10,15,20,30],\"min_interval\":1000.0,\"max_interval\":1800000.0}},{\"type\":\"object\",\"name\":\"AdaptiveTicker\",\"id\":\"p1217\",\"attributes\":{\"num_minor_ticks\":0,\"base\":24,\"mantissas\":[1,2,4,6,8,12],\"min_interval\":3600000.0,\"max_interval\":43200000.0}},{\"type\":\"object\",\"name\":\"DaysTicker\",\"id\":\"p1218\",\"attributes\":{\"days\":[1,2,3,4,5,6,7,8,9,10,11,12,13,14,15,16,17,18,19,20,21,22,23,24,25,26,27,28,29,30,31]}},{\"type\":\"object\",\"name\":\"DaysTicker\",\"id\":\"p1219\",\"attributes\":{\"days\":[1,4,7,10,13,16,19,22,25,28]}},{\"type\":\"object\",\"name\":\"DaysTicker\",\"id\":\"p1220\",\"attributes\":{\"days\":[1,8,15,22]}},{\"type\":\"object\",\"name\":\"DaysTicker\",\"id\":\"p1221\",\"attributes\":{\"days\":[1,15]}},{\"type\":\"object\",\"name\":\"MonthsTicker\",\"id\":\"p1222\",\"attributes\":{\"months\":[0,1,2,3,4,5,6,7,8,9,10,11]}},{\"type\":\"object\",\"name\":\"MonthsTicker\",\"id\":\"p1223\",\"attributes\":{\"months\":[0,2,4,6,8,10]}},{\"type\":\"object\",\"name\":\"MonthsTicker\",\"id\":\"p1224\",\"attributes\":{\"months\":[0,4,8]}},{\"type\":\"object\",\"name\":\"MonthsTicker\",\"id\":\"p1225\",\"attributes\":{\"months\":[0,6]}},{\"type\":\"object\",\"name\":\"YearsTicker\",\"id\":\"p1226\"}]}},\"formatter\":{\"type\":\"object\",\"name\":\"DatetimeTickFormatter\",\"id\":\"p1227\"},\"axis_label\":\"date\",\"major_label_policy\":{\"type\":\"object\",\"name\":\"AllLabels\",\"id\":\"p1228\"}}}],\"center\":[{\"type\":\"object\",\"name\":\"Grid\",\"id\":\"p1229\",\"attributes\":{\"axis\":{\"id\":\"p1213\"},\"grid_line_color\":null}},{\"type\":\"object\",\"name\":\"Grid\",\"id\":\"p1234\",\"attributes\":{\"dimension\":1,\"axis\":{\"id\":\"p1230\"},\"grid_line_color\":null}}],\"min_border_top\":10,\"min_border_bottom\":10,\"min_border_left\":10,\"min_border_right\":10,\"output_backend\":\"webgl\"}},{\"type\":\"object\",\"name\":\"Spacer\",\"id\":\"p1270\",\"attributes\":{\"name\":\"HSpacer01273\",\"stylesheets\":[\"\\n:host(.pn-loading.pn-arc):before, .pn-loading.pn-arc:before {\\n  background-image: url(\\\"data:image/svg+xml;base64,PHN2ZyB4bWxucz0iaHR0cDovL3d3dy53My5vcmcvMjAwMC9zdmciIHN0eWxlPSJtYXJnaW46IGF1dG87IGJhY2tncm91bmQ6IG5vbmU7IGRpc3BsYXk6IGJsb2NrOyBzaGFwZS1yZW5kZXJpbmc6IGF1dG87IiB2aWV3Qm94PSIwIDAgMTAwIDEwMCIgcHJlc2VydmVBc3BlY3RSYXRpbz0ieE1pZFlNaWQiPiAgPGNpcmNsZSBjeD0iNTAiIGN5PSI1MCIgZmlsbD0ibm9uZSIgc3Ryb2tlPSIjYzNjM2MzIiBzdHJva2Utd2lkdGg9IjEwIiByPSIzNSIgc3Ryb2tlLWRhc2hhcnJheT0iMTY0LjkzMzYxNDMxMzQ2NDE1IDU2Ljk3Nzg3MTQzNzgyMTM4Ij4gICAgPGFuaW1hdGVUcmFuc2Zvcm0gYXR0cmlidXRlTmFtZT0idHJhbnNmb3JtIiB0eXBlPSJyb3RhdGUiIHJlcGVhdENvdW50PSJpbmRlZmluaXRlIiBkdXI9IjFzIiB2YWx1ZXM9IjAgNTAgNTA7MzYwIDUwIDUwIiBrZXlUaW1lcz0iMDsxIj48L2FuaW1hdGVUcmFuc2Zvcm0+ICA8L2NpcmNsZT48L3N2Zz4=\\\");\\n  background-size: auto calc(min(50%, 400px));\\n}\",{\"id\":\"p1189\"},{\"id\":\"p1187\"},{\"id\":\"p1188\"}],\"margin\":0,\"sizing_mode\":\"stretch_width\",\"align\":\"start\"}}]}}],\"defs\":[{\"type\":\"model\",\"name\":\"ReactiveHTML1\"},{\"type\":\"model\",\"name\":\"FlexBox1\",\"properties\":[{\"name\":\"align_content\",\"kind\":\"Any\",\"default\":\"flex-start\"},{\"name\":\"align_items\",\"kind\":\"Any\",\"default\":\"flex-start\"},{\"name\":\"flex_direction\",\"kind\":\"Any\",\"default\":\"row\"},{\"name\":\"flex_wrap\",\"kind\":\"Any\",\"default\":\"wrap\"},{\"name\":\"justify_content\",\"kind\":\"Any\",\"default\":\"flex-start\"}]},{\"type\":\"model\",\"name\":\"FloatPanel1\",\"properties\":[{\"name\":\"config\",\"kind\":\"Any\",\"default\":{\"type\":\"map\"}},{\"name\":\"contained\",\"kind\":\"Any\",\"default\":true},{\"name\":\"position\",\"kind\":\"Any\",\"default\":\"right-top\"},{\"name\":\"offsetx\",\"kind\":\"Any\",\"default\":null},{\"name\":\"offsety\",\"kind\":\"Any\",\"default\":null},{\"name\":\"theme\",\"kind\":\"Any\",\"default\":\"primary\"},{\"name\":\"status\",\"kind\":\"Any\",\"default\":\"normalized\"}]},{\"type\":\"model\",\"name\":\"GridStack1\",\"properties\":[{\"name\":\"mode\",\"kind\":\"Any\",\"default\":\"warn\"},{\"name\":\"ncols\",\"kind\":\"Any\",\"default\":null},{\"name\":\"nrows\",\"kind\":\"Any\",\"default\":null},{\"name\":\"allow_resize\",\"kind\":\"Any\",\"default\":true},{\"name\":\"allow_drag\",\"kind\":\"Any\",\"default\":true},{\"name\":\"state\",\"kind\":\"Any\",\"default\":[]}]},{\"type\":\"model\",\"name\":\"drag1\",\"properties\":[{\"name\":\"slider_width\",\"kind\":\"Any\",\"default\":5},{\"name\":\"slider_color\",\"kind\":\"Any\",\"default\":\"black\"},{\"name\":\"value\",\"kind\":\"Any\",\"default\":50}]},{\"type\":\"model\",\"name\":\"click1\",\"properties\":[{\"name\":\"terminal_output\",\"kind\":\"Any\",\"default\":\"\"},{\"name\":\"debug_name\",\"kind\":\"Any\",\"default\":\"\"},{\"name\":\"clears\",\"kind\":\"Any\",\"default\":0}]},{\"type\":\"model\",\"name\":\"FastWrapper1\",\"properties\":[{\"name\":\"object\",\"kind\":\"Any\",\"default\":null},{\"name\":\"style\",\"kind\":\"Any\",\"default\":null}]},{\"type\":\"model\",\"name\":\"NotificationAreaBase1\",\"properties\":[{\"name\":\"js_events\",\"kind\":\"Any\",\"default\":{\"type\":\"map\"}},{\"name\":\"position\",\"kind\":\"Any\",\"default\":\"bottom-right\"},{\"name\":\"_clear\",\"kind\":\"Any\",\"default\":0}]},{\"type\":\"model\",\"name\":\"NotificationArea1\",\"properties\":[{\"name\":\"js_events\",\"kind\":\"Any\",\"default\":{\"type\":\"map\"}},{\"name\":\"notifications\",\"kind\":\"Any\",\"default\":[]},{\"name\":\"position\",\"kind\":\"Any\",\"default\":\"bottom-right\"},{\"name\":\"_clear\",\"kind\":\"Any\",\"default\":0},{\"name\":\"types\",\"kind\":\"Any\",\"default\":[{\"type\":\"map\",\"entries\":[[\"type\",\"warning\"],[\"background\",\"#ffc107\"],[\"icon\",{\"type\":\"map\",\"entries\":[[\"className\",\"fas fa-exclamation-triangle\"],[\"tagName\",\"i\"],[\"color\",\"white\"]]}]]},{\"type\":\"map\",\"entries\":[[\"type\",\"info\"],[\"background\",\"#007bff\"],[\"icon\",{\"type\":\"map\",\"entries\":[[\"className\",\"fas fa-info-circle\"],[\"tagName\",\"i\"],[\"color\",\"white\"]]}]]}]}]},{\"type\":\"model\",\"name\":\"Notification\",\"properties\":[{\"name\":\"background\",\"kind\":\"Any\",\"default\":null},{\"name\":\"duration\",\"kind\":\"Any\",\"default\":3000},{\"name\":\"icon\",\"kind\":\"Any\",\"default\":null},{\"name\":\"message\",\"kind\":\"Any\",\"default\":\"\"},{\"name\":\"notification_type\",\"kind\":\"Any\",\"default\":null},{\"name\":\"_destroyed\",\"kind\":\"Any\",\"default\":false}]},{\"type\":\"model\",\"name\":\"TemplateActions1\",\"properties\":[{\"name\":\"open_modal\",\"kind\":\"Any\",\"default\":0},{\"name\":\"close_modal\",\"kind\":\"Any\",\"default\":0}]},{\"type\":\"model\",\"name\":\"BootstrapTemplateActions1\",\"properties\":[{\"name\":\"open_modal\",\"kind\":\"Any\",\"default\":0},{\"name\":\"close_modal\",\"kind\":\"Any\",\"default\":0}]},{\"type\":\"model\",\"name\":\"MaterialTemplateActions1\",\"properties\":[{\"name\":\"open_modal\",\"kind\":\"Any\",\"default\":0},{\"name\":\"close_modal\",\"kind\":\"Any\",\"default\":0}]}]}};\n",
       "  var render_items = [{\"docid\":\"c88a272f-4ddd-4857-9ee8-8c8a2a50b539\",\"roots\":{\"p1186\":\"ec612260-c69b-4d12-a36b-292f9b752bce\"},\"root_ids\":[\"p1186\"]}];\n",
       "  var docs = Object.values(docs_json)\n",
       "  if (!docs) {\n",
       "    return\n",
       "  }\n",
       "  const py_version = docs[0].version.replace('rc', '-rc.').replace('.dev', '-dev.')\n",
       "  const is_dev = py_version.indexOf(\"+\") !== -1 || py_version.indexOf(\"-\") !== -1\n",
       "  function embed_document(root) {\n",
       "    var Bokeh = get_bokeh(root)\n",
       "    Bokeh.embed.embed_items_notebook(docs_json, render_items);\n",
       "    for (const render_item of render_items) {\n",
       "      for (const root_id of render_item.root_ids) {\n",
       "\tconst id_el = document.getElementById(root_id)\n",
       "\tif (id_el.children.length && (id_el.children[0].className === 'bk-root')) {\n",
       "\t  const root_el = id_el.children[0]\n",
       "\t  root_el.id = root_el.id + '-rendered'\n",
       "\t}\n",
       "      }\n",
       "    }\n",
       "  }\n",
       "  function get_bokeh(root) {\n",
       "    if (root.Bokeh === undefined) {\n",
       "      return null\n",
       "    } else if (root.Bokeh.version !== py_version && !is_dev) {\n",
       "      if (root.Bokeh.versions === undefined || !root.Bokeh.versions.has(py_version)) {\n",
       "\treturn null\n",
       "      }\n",
       "      return root.Bokeh.versions.get(py_version);\n",
       "    } else if (root.Bokeh.version === py_version) {\n",
       "      return root.Bokeh\n",
       "    }\n",
       "    return null\n",
       "  }\n",
       "  function is_loaded(root) {\n",
       "    var Bokeh = get_bokeh(root)\n",
       "    return (Bokeh != null && Bokeh.Panel !== undefined)\n",
       "  }\n",
       "  if (is_loaded(root)) {\n",
       "    embed_document(root);\n",
       "  } else {\n",
       "    var attempts = 0;\n",
       "    var timer = setInterval(function(root) {\n",
       "      if (is_loaded(root)) {\n",
       "        clearInterval(timer);\n",
       "        embed_document(root);\n",
       "      } else if (document.readyState == \"complete\") {\n",
       "        attempts++;\n",
       "        if (attempts > 200) {\n",
       "          clearInterval(timer);\n",
       "\t  var Bokeh = get_bokeh(root)\n",
       "\t  if (Bokeh == null || Bokeh.Panel == null) {\n",
       "            console.warn(\"Panel: ERROR: Unable to run Panel code because Bokeh or Panel library is missing\");\n",
       "\t  } else {\n",
       "\t    console.warn(\"Panel: WARNING: Attempting to render but not all required libraries could be resolved.\")\n",
       "\t    embed_document(root)\n",
       "\t  }\n",
       "        }\n",
       "      }\n",
       "    }, 25, root)\n",
       "  }\n",
       "})(window);</script>"
      ],
      "text/plain": [
       ":NdOverlay   [Variable]\n",
       "   :Curve   [date]   (value)"
      ]
     },
     "execution_count": 20,
     "metadata": {
      "application/vnd.holoviews_exec.v0+json": {
       "id": "p1186"
      }
     },
     "output_type": "execute_result"
    }
   ],
   "source": [
    "# Use hvplot to visualize the time series data in the df_apple DataFrame\n",
    "import hvplot.pandas\n",
    "df_apple.hvplot()\n"
   ]
  },
  {
   "cell_type": "markdown",
   "metadata": {},
   "source": [
    "## Building Time Trends"
   ]
  },
  {
   "cell_type": "markdown",
   "metadata": {},
   "source": [
    "### Step 1: Note that on September 10, 2019, Apple organized an event where it presented the new iPhone 11 family, the Apple Watch Series 5, and a new iPad. This event gained worldwide attention."
   ]
  },
  {
   "cell_type": "markdown",
   "metadata": {},
   "source": [
    "### Step 2: Closely examine the data from March 1, 2019 to January 31, 2020."
   ]
  },
  {
   "cell_type": "code",
   "execution_count": 21,
   "metadata": {},
   "outputs": [
    {
     "data": {
      "text/html": [
       "<div>\n",
       "<style scoped>\n",
       "    .dataframe tbody tr th:only-of-type {\n",
       "        vertical-align: middle;\n",
       "    }\n",
       "\n",
       "    .dataframe tbody tr th {\n",
       "        vertical-align: top;\n",
       "    }\n",
       "\n",
       "    .dataframe thead th {\n",
       "        text-align: right;\n",
       "    }\n",
       "</style>\n",
       "<table border=\"1\" class=\"dataframe\">\n",
       "  <thead>\n",
       "    <tr style=\"text-align: right;\">\n",
       "      <th></th>\n",
       "      <th>close</th>\n",
       "      <th>trend-worldwide</th>\n",
       "    </tr>\n",
       "    <tr>\n",
       "      <th>date</th>\n",
       "      <th></th>\n",
       "      <th></th>\n",
       "    </tr>\n",
       "  </thead>\n",
       "  <tbody>\n",
       "    <tr>\n",
       "      <th>2019-03-01</th>\n",
       "      <td>43.74</td>\n",
       "      <td>27.0</td>\n",
       "    </tr>\n",
       "    <tr>\n",
       "      <th>2019-03-08</th>\n",
       "      <td>43.23</td>\n",
       "      <td>27.0</td>\n",
       "    </tr>\n",
       "    <tr>\n",
       "      <th>2019-03-15</th>\n",
       "      <td>46.53</td>\n",
       "      <td>27.0</td>\n",
       "    </tr>\n",
       "    <tr>\n",
       "      <th>2019-03-22</th>\n",
       "      <td>47.76</td>\n",
       "      <td>30.0</td>\n",
       "    </tr>\n",
       "    <tr>\n",
       "      <th>2019-03-29</th>\n",
       "      <td>47.49</td>\n",
       "      <td>34.0</td>\n",
       "    </tr>\n",
       "  </tbody>\n",
       "</table>\n",
       "</div>"
      ],
      "text/plain": [
       "            close  trend-worldwide\n",
       "date                              \n",
       "2019-03-01  43.74             27.0\n",
       "2019-03-08  43.23             27.0\n",
       "2019-03-15  46.53             27.0\n",
       "2019-03-22  47.76             30.0\n",
       "2019-03-29  47.49             34.0"
      ]
     },
     "execution_count": 21,
     "metadata": {},
     "output_type": "execute_result"
    }
   ],
   "source": [
    "# Using the df_apple DataFrame, use the loc function to select a\n",
    "# range of data from March 1st, 2019 to January 31st, 2020\n",
    "df_apple_2019_2020 = df_apple.loc[\"2019-03-01\":\"2020-01-31\"]\n",
    "\n",
    "\n",
    "\n",
    "# Review the df_spotlight DataFrame\n",
    "df_apple_2019_2020.head()\n"
   ]
  },
  {
   "cell_type": "markdown",
   "metadata": {},
   "source": [
    "### Step 3: Create a plot and identify whether both time series indicate a common trend that might correspond to this narrative."
   ]
  },
  {
   "cell_type": "code",
   "execution_count": 22,
   "metadata": {},
   "outputs": [
    {
     "name": "stderr",
     "output_type": "stream",
     "text": [
      "/Users/juanlavierigoiri/anaconda3/lib/python3.11/site-packages/holoviews/core/data/pandas.py:39: FutureWarning: Series.__getitem__ treating keys as positions is deprecated. In a future version, integer keys will always be treated as labels (consistent with DataFrame behavior). To access a value by position, use `ser.iloc[pos]`\n",
      "  return dataset.data.dtypes[idx].type\n",
      "/Users/juanlavierigoiri/anaconda3/lib/python3.11/site-packages/holoviews/core/data/pandas.py:39: FutureWarning: Series.__getitem__ treating keys as positions is deprecated. In a future version, integer keys will always be treated as labels (consistent with DataFrame behavior). To access a value by position, use `ser.iloc[pos]`\n",
      "  return dataset.data.dtypes[idx].type\n"
     ]
    },
    {
     "data": {},
     "metadata": {},
     "output_type": "display_data"
    },
    {
     "data": {
      "application/vnd.holoviews_exec.v0+json": "",
      "text/html": [
       "<div id='p1278'>\n",
       "  <div id=\"d3767266-fdef-4882-9932-a4e57453bf8c\" data-root-id=\"p1278\" style=\"display: contents;\"></div>\n",
       "</div>\n",
       "<script type=\"application/javascript\">(function(root) {\n",
       "  var docs_json = {\"60418792-04a8-4de1-aeea-c406136b6463\":{\"version\":\"3.2.1\",\"title\":\"Bokeh Application\",\"roots\":[{\"type\":\"object\",\"name\":\"Row\",\"id\":\"p1278\",\"attributes\":{\"name\":\"Row01437\",\"tags\":[\"embedded\"],\"stylesheets\":[\"\\n:host(.pn-loading.pn-arc):before, .pn-loading.pn-arc:before {\\n  background-image: url(\\\"data:image/svg+xml;base64,PHN2ZyB4bWxucz0iaHR0cDovL3d3dy53My5vcmcvMjAwMC9zdmciIHN0eWxlPSJtYXJnaW46IGF1dG87IGJhY2tncm91bmQ6IG5vbmU7IGRpc3BsYXk6IGJsb2NrOyBzaGFwZS1yZW5kZXJpbmc6IGF1dG87IiB2aWV3Qm94PSIwIDAgMTAwIDEwMCIgcHJlc2VydmVBc3BlY3RSYXRpbz0ieE1pZFlNaWQiPiAgPGNpcmNsZSBjeD0iNTAiIGN5PSI1MCIgZmlsbD0ibm9uZSIgc3Ryb2tlPSIjYzNjM2MzIiBzdHJva2Utd2lkdGg9IjEwIiByPSIzNSIgc3Ryb2tlLWRhc2hhcnJheT0iMTY0LjkzMzYxNDMxMzQ2NDE1IDU2Ljk3Nzg3MTQzNzgyMTM4Ij4gICAgPGFuaW1hdGVUcmFuc2Zvcm0gYXR0cmlidXRlTmFtZT0idHJhbnNmb3JtIiB0eXBlPSJyb3RhdGUiIHJlcGVhdENvdW50PSJpbmRlZmluaXRlIiBkdXI9IjFzIiB2YWx1ZXM9IjAgNTAgNTA7MzYwIDUwIDUwIiBrZXlUaW1lcz0iMDsxIj48L2FuaW1hdGVUcmFuc2Zvcm0+ICA8L2NpcmNsZT48L3N2Zz4=\\\");\\n  background-size: auto calc(min(50%, 400px));\\n}\",{\"type\":\"object\",\"name\":\"ImportedStyleSheet\",\"id\":\"p1281\",\"attributes\":{\"url\":\"https://cdn.holoviz.org/panel/1.2.3/dist/css/loading.css\"}},{\"type\":\"object\",\"name\":\"ImportedStyleSheet\",\"id\":\"p1364\",\"attributes\":{\"url\":\"https://cdn.holoviz.org/panel/1.2.3/dist/css/listpanel.css\"}},{\"type\":\"object\",\"name\":\"ImportedStyleSheet\",\"id\":\"p1279\",\"attributes\":{\"url\":\"https://cdn.holoviz.org/panel/1.2.3/dist/bundled/theme/default.css\"}},{\"type\":\"object\",\"name\":\"ImportedStyleSheet\",\"id\":\"p1280\",\"attributes\":{\"url\":\"https://cdn.holoviz.org/panel/1.2.3/dist/bundled/theme/native.css\"}}],\"min_width\":700,\"margin\":0,\"sizing_mode\":\"stretch_width\",\"align\":\"start\",\"children\":[{\"type\":\"object\",\"name\":\"Spacer\",\"id\":\"p1282\",\"attributes\":{\"name\":\"HSpacer01448\",\"stylesheets\":[\"\\n:host(.pn-loading.pn-arc):before, .pn-loading.pn-arc:before {\\n  background-image: url(\\\"data:image/svg+xml;base64,PHN2ZyB4bWxucz0iaHR0cDovL3d3dy53My5vcmcvMjAwMC9zdmciIHN0eWxlPSJtYXJnaW46IGF1dG87IGJhY2tncm91bmQ6IG5vbmU7IGRpc3BsYXk6IGJsb2NrOyBzaGFwZS1yZW5kZXJpbmc6IGF1dG87IiB2aWV3Qm94PSIwIDAgMTAwIDEwMCIgcHJlc2VydmVBc3BlY3RSYXRpbz0ieE1pZFlNaWQiPiAgPGNpcmNsZSBjeD0iNTAiIGN5PSI1MCIgZmlsbD0ibm9uZSIgc3Ryb2tlPSIjYzNjM2MzIiBzdHJva2Utd2lkdGg9IjEwIiByPSIzNSIgc3Ryb2tlLWRhc2hhcnJheT0iMTY0LjkzMzYxNDMxMzQ2NDE1IDU2Ljk3Nzg3MTQzNzgyMTM4Ij4gICAgPGFuaW1hdGVUcmFuc2Zvcm0gYXR0cmlidXRlTmFtZT0idHJhbnNmb3JtIiB0eXBlPSJyb3RhdGUiIHJlcGVhdENvdW50PSJpbmRlZmluaXRlIiBkdXI9IjFzIiB2YWx1ZXM9IjAgNTAgNTA7MzYwIDUwIDUwIiBrZXlUaW1lcz0iMDsxIj48L2FuaW1hdGVUcmFuc2Zvcm0+ICA8L2NpcmNsZT48L3N2Zz4=\\\");\\n  background-size: auto calc(min(50%, 400px));\\n}\",{\"id\":\"p1281\"},{\"id\":\"p1279\"},{\"id\":\"p1280\"}],\"margin\":0,\"sizing_mode\":\"stretch_width\",\"align\":\"start\"}},{\"type\":\"object\",\"name\":\"Figure\",\"id\":\"p1293\",\"attributes\":{\"width\":700,\"height\":300,\"margin\":[5,10],\"sizing_mode\":\"fixed\",\"align\":\"start\",\"x_range\":{\"type\":\"object\",\"name\":\"Range1d\",\"id\":\"p1283\",\"attributes\":{\"tags\":[[[\"date\",\"date\",null]],[]],\"start\":1551398400000.0,\"end\":1580428800000.0,\"reset_start\":1551398400000.0,\"reset_end\":1580428800000.0}},\"y_range\":{\"type\":\"object\",\"name\":\"Range1d\",\"id\":\"p1284\",\"attributes\":{\"tags\":[[[\"value\",\"value\",null]],{\"type\":\"map\",\"entries\":[[\"invert_yaxis\",false],[\"autorange\",false]]}],\"start\":19.7,\"end\":107.3,\"reset_start\":19.7,\"reset_end\":107.3}},\"x_scale\":{\"type\":\"object\",\"name\":\"LinearScale\",\"id\":\"p1303\"},\"y_scale\":{\"type\":\"object\",\"name\":\"LinearScale\",\"id\":\"p1304\"},\"title\":{\"type\":\"object\",\"name\":\"Title\",\"id\":\"p1296\",\"attributes\":{\"text_color\":\"black\",\"text_font_size\":\"12pt\"}},\"renderers\":[{\"type\":\"object\",\"name\":\"GlyphRenderer\",\"id\":\"p1341\",\"attributes\":{\"name\":\"close\",\"data_source\":{\"type\":\"object\",\"name\":\"ColumnDataSource\",\"id\":\"p1332\",\"attributes\":{\"selected\":{\"type\":\"object\",\"name\":\"Selection\",\"id\":\"p1333\",\"attributes\":{\"indices\":[],\"line_indices\":[]}},\"selection_policy\":{\"type\":\"object\",\"name\":\"UnionRenderers\",\"id\":\"p1334\"},\"data\":{\"type\":\"map\",\"entries\":[[\"date\",{\"type\":\"ndarray\",\"array\":{\"type\":\"bytes\",\"data\":\"AAAAz2iTdkIAAECXqZV2QgAAgF/ql3ZCAADAJyuadkIAAADwa5x2QgAAQLisnnZCAACAgO2gdkIAAAARb6V2QgAAQNmvp3ZCAACAofCpdkIAAMBpMax2QgAAADJyrnZCAABA+rKwdkIAAIDC87J2QgAAwIo0tXZCAAAAU3W3dkIAAEAbtrl2QgAAgOP2u3ZCAADAqze+dkIAAAB0eMB2QgAAQDy5wnZCAACABPrEdkIAAMDMOsd2QgAAAJV7yXZCAABAXbzLdkIAAIAl/c12QgAAwO090HZCAAAAtn7SdkIAAEB+v9R2QgAAgEYA13ZCAADADkHZdkIAAADXgdt2QgAAQJ/C3XZCAACAZwPgdkIAAMAvROJ2QgAAAPiE5HZCAABAwMXmdkIAAICIBul2QgAAwFBH63ZCAAAAGYjtdkIAAEDhyO92QgAAgKkJ8nZCAADAcUr0dkIAAAA6i/Z2QgAAQALM+HZCAACAygz7dkIAAMCSTf12QgAAAFuO/3ZC\"},\"shape\":[48],\"dtype\":\"float64\",\"order\":\"little\"}],[\"value\",{\"type\":\"ndarray\",\"array\":{\"type\":\"bytes\",\"data\":\"H4XrUbjeRUA9CtejcJ1FQKRwPQrXQ0dA4XoUrkfhR0AfhetRuL5HQAAAAAAAoEhAXI/C9SjcSEAK16NwPYpJQLgehetReEpAZmZmZmamSEAAAAAAAKBHQB+F61G4XkZAw/UoXI/iRUCF61G4HsVHQLgehetRGEhAmpmZmZnZSEA9CtejcL1IQEjhehSuh0lACtejcD1qSUAzMzMzM1NJQLgehetR+ElA4XoUrkeBSUAAAAAAACBJQHE9Ctej0ElAFK5H4XpUSUC4HoXrURhKQClcj8L1qEpAuB6F61FYS0DXo3A9CjdLQHsUrkfhWktAAAAAAABgTEBmZmZmZoZNQM3MzMzMjE1AMzMzMzPTTkB7FK5H4fpPQMP1KFyPQlBAXI/C9SicUEBcj8L1KFxQQKRwPQrXs1BA7FG4HoXrUEDD9ShcjzJRQNejcD0Kd1FAzczMzMwcUkDXo3A9CpdSQIXrUbgeZVNA7FG4HoXrU0CF61G4HuVTQLgehetRWFNA\"},\"shape\":[48],\"dtype\":\"float64\",\"order\":\"little\"}],[\"Variable\",[\"close\",\"close\",\"close\",\"close\",\"close\",\"close\",\"close\",\"close\",\"close\",\"close\",\"close\",\"close\",\"close\",\"close\",\"close\",\"close\",\"close\",\"close\",\"close\",\"close\",\"close\",\"close\",\"close\",\"close\",\"close\",\"close\",\"close\",\"close\",\"close\",\"close\",\"close\",\"close\",\"close\",\"close\",\"close\",\"close\",\"close\",\"close\",\"close\",\"close\",\"close\",\"close\",\"close\",\"close\",\"close\",\"close\",\"close\",\"close\"]]]}}},\"view\":{\"type\":\"object\",\"name\":\"CDSView\",\"id\":\"p1342\",\"attributes\":{\"filter\":{\"type\":\"object\",\"name\":\"AllIndices\",\"id\":\"p1343\"}}},\"glyph\":{\"type\":\"object\",\"name\":\"Line\",\"id\":\"p1338\",\"attributes\":{\"tags\":[\"apply_ranges\"],\"x\":{\"type\":\"field\",\"field\":\"date\"},\"y\":{\"type\":\"field\",\"field\":\"value\"},\"line_color\":\"#30a2da\",\"line_width\":2}},\"selection_glyph\":{\"type\":\"object\",\"name\":\"Line\",\"id\":\"p1346\",\"attributes\":{\"tags\":[\"apply_ranges\"],\"x\":{\"type\":\"field\",\"field\":\"date\"},\"y\":{\"type\":\"field\",\"field\":\"value\"},\"line_color\":\"#30a2da\",\"line_width\":2}},\"nonselection_glyph\":{\"type\":\"object\",\"name\":\"Line\",\"id\":\"p1339\",\"attributes\":{\"tags\":[\"apply_ranges\"],\"x\":{\"type\":\"field\",\"field\":\"date\"},\"y\":{\"type\":\"field\",\"field\":\"value\"},\"line_color\":\"#30a2da\",\"line_alpha\":0.1,\"line_width\":2}},\"muted_glyph\":{\"type\":\"object\",\"name\":\"Line\",\"id\":\"p1340\",\"attributes\":{\"tags\":[\"apply_ranges\"],\"x\":{\"type\":\"field\",\"field\":\"date\"},\"y\":{\"type\":\"field\",\"field\":\"value\"},\"line_color\":\"#30a2da\",\"line_alpha\":0.2,\"line_width\":2}}}},{\"type\":\"object\",\"name\":\"GlyphRenderer\",\"id\":\"p1356\",\"attributes\":{\"name\":\"trend-worldwide\",\"data_source\":{\"type\":\"object\",\"name\":\"ColumnDataSource\",\"id\":\"p1347\",\"attributes\":{\"selected\":{\"type\":\"object\",\"name\":\"Selection\",\"id\":\"p1348\",\"attributes\":{\"indices\":[],\"line_indices\":[]}},\"selection_policy\":{\"type\":\"object\",\"name\":\"UnionRenderers\",\"id\":\"p1349\"},\"data\":{\"type\":\"map\",\"entries\":[[\"date\",{\"type\":\"ndarray\",\"array\":{\"type\":\"bytes\",\"data\":\"AAAAz2iTdkIAAECXqZV2QgAAgF/ql3ZCAADAJyuadkIAAADwa5x2QgAAQLisnnZCAACAgO2gdkIAAAARb6V2QgAAQNmvp3ZCAACAofCpdkIAAMBpMax2QgAAADJyrnZCAABA+rKwdkIAAIDC87J2QgAAwIo0tXZCAAAAU3W3dkIAAEAbtrl2QgAAgOP2u3ZCAADAqze+dkIAAAB0eMB2QgAAQDy5wnZCAACABPrEdkIAAMDMOsd2QgAAAJV7yXZCAABAXbzLdkIAAIAl/c12QgAAwO090HZCAAAAtn7SdkIAAEB+v9R2QgAAgEYA13ZCAADADkHZdkIAAADXgdt2QgAAQJ/C3XZCAACAZwPgdkIAAMAvROJ2QgAAAPiE5HZCAABAwMXmdkIAAICIBul2QgAAwFBH63ZCAAAAGYjtdkIAAEDhyO92QgAAgKkJ8nZCAADAcUr0dkIAAAA6i/Z2QgAAQALM+HZCAACAygz7dkIAAMCSTf12QgAAAFuO/3ZC\"},\"shape\":[48],\"dtype\":\"float64\",\"order\":\"little\"}],[\"value\",{\"type\":\"ndarray\",\"array\":{\"type\":\"bytes\",\"data\":\"AAAAAAAAO0AAAAAAAAA7QAAAAAAAADtAAAAAAAAAPkAAAAAAAABBQAAAAAAAAD1AAAAAAAAAO0AAAAAAAAA7QAAAAAAAADxAAAAAAAAAO0AAAAAAAAA7QAAAAAAAADxAAAAAAAAAO0AAAAAAAIBBQAAAAAAAAD5AAAAAAAAAPUAAAAAAAAA8QAAAAAAAADxAAAAAAAAAPEAAAAAAAAA+QAAAAAAAADxAAAAAAAAAPUAAAAAAAAA9QAAAAAAAAD5AAAAAAAAAPkAAAAAAAABIQAAAAAAAAFlAAAAAAADAV0AAAAAAAEBTQAAAAAAAgE5AAAAAAAAAQkAAAAAAAABCQAAAAAAAAEFAAAAAAACAQEAAAAAAAABDQAAAAAAAgEJAAAAAAACAQkAAAAAAAABCQAAAAAAAAEdAAAAAAAAAREAAAAAAAIBCQAAAAAAAAENAAAAAAAAAR0AAAAAAAABDQAAAAAAAAEFAAAAAAAAAQEAAAAAAAABAQAAAAAAAAD9A\"},\"shape\":[48],\"dtype\":\"float64\",\"order\":\"little\"}],[\"Variable\",[\"trend-worldwide\",\"trend-worldwide\",\"trend-worldwide\",\"trend-worldwide\",\"trend-worldwide\",\"trend-worldwide\",\"trend-worldwide\",\"trend-worldwide\",\"trend-worldwide\",\"trend-worldwide\",\"trend-worldwide\",\"trend-worldwide\",\"trend-worldwide\",\"trend-worldwide\",\"trend-worldwide\",\"trend-worldwide\",\"trend-worldwide\",\"trend-worldwide\",\"trend-worldwide\",\"trend-worldwide\",\"trend-worldwide\",\"trend-worldwide\",\"trend-worldwide\",\"trend-worldwide\",\"trend-worldwide\",\"trend-worldwide\",\"trend-worldwide\",\"trend-worldwide\",\"trend-worldwide\",\"trend-worldwide\",\"trend-worldwide\",\"trend-worldwide\",\"trend-worldwide\",\"trend-worldwide\",\"trend-worldwide\",\"trend-worldwide\",\"trend-worldwide\",\"trend-worldwide\",\"trend-worldwide\",\"trend-worldwide\",\"trend-worldwide\",\"trend-worldwide\",\"trend-worldwide\",\"trend-worldwide\",\"trend-worldwide\",\"trend-worldwide\",\"trend-worldwide\",\"trend-worldwide\"]]]}}},\"view\":{\"type\":\"object\",\"name\":\"CDSView\",\"id\":\"p1357\",\"attributes\":{\"filter\":{\"type\":\"object\",\"name\":\"AllIndices\",\"id\":\"p1358\"}}},\"glyph\":{\"type\":\"object\",\"name\":\"Line\",\"id\":\"p1353\",\"attributes\":{\"tags\":[\"apply_ranges\"],\"x\":{\"type\":\"field\",\"field\":\"date\"},\"y\":{\"type\":\"field\",\"field\":\"value\"},\"line_color\":\"#fc4f30\",\"line_width\":2}},\"selection_glyph\":{\"type\":\"object\",\"name\":\"Line\",\"id\":\"p1360\",\"attributes\":{\"tags\":[\"apply_ranges\"],\"x\":{\"type\":\"field\",\"field\":\"date\"},\"y\":{\"type\":\"field\",\"field\":\"value\"},\"line_color\":\"#fc4f30\",\"line_width\":2}},\"nonselection_glyph\":{\"type\":\"object\",\"name\":\"Line\",\"id\":\"p1354\",\"attributes\":{\"tags\":[\"apply_ranges\"],\"x\":{\"type\":\"field\",\"field\":\"date\"},\"y\":{\"type\":\"field\",\"field\":\"value\"},\"line_color\":\"#fc4f30\",\"line_alpha\":0.1,\"line_width\":2}},\"muted_glyph\":{\"type\":\"object\",\"name\":\"Line\",\"id\":\"p1355\",\"attributes\":{\"tags\":[\"apply_ranges\"],\"x\":{\"type\":\"field\",\"field\":\"date\"},\"y\":{\"type\":\"field\",\"field\":\"value\"},\"line_color\":\"#fc4f30\",\"line_alpha\":0.2,\"line_width\":2}}}}],\"toolbar\":{\"type\":\"object\",\"name\":\"Toolbar\",\"id\":\"p1302\",\"attributes\":{\"tools\":[{\"type\":\"object\",\"name\":\"WheelZoomTool\",\"id\":\"p1288\",\"attributes\":{\"tags\":[\"hv_created\"],\"zoom_together\":\"none\"}},{\"type\":\"object\",\"name\":\"HoverTool\",\"id\":\"p1289\",\"attributes\":{\"tags\":[\"hv_created\"],\"renderers\":[{\"id\":\"p1341\"},{\"id\":\"p1356\"}],\"tooltips\":[[\"Variable\",\"@{Variable}\"],[\"date\",\"@{date}{%F %T}\"],[\"value\",\"@{value}\"]],\"formatters\":{\"type\":\"map\",\"entries\":[[\"@{date}\",\"datetime\"]]}}},{\"type\":\"object\",\"name\":\"SaveTool\",\"id\":\"p1327\"},{\"type\":\"object\",\"name\":\"PanTool\",\"id\":\"p1328\"},{\"type\":\"object\",\"name\":\"BoxZoomTool\",\"id\":\"p1329\",\"attributes\":{\"overlay\":{\"type\":\"object\",\"name\":\"BoxAnnotation\",\"id\":\"p1330\",\"attributes\":{\"syncable\":false,\"level\":\"overlay\",\"visible\":false,\"left_units\":\"canvas\",\"right_units\":\"canvas\",\"bottom_units\":\"canvas\",\"top_units\":\"canvas\",\"line_color\":\"black\",\"line_alpha\":1.0,\"line_width\":2,\"line_dash\":[4,4],\"fill_color\":\"lightgrey\",\"fill_alpha\":0.5}}}},{\"type\":\"object\",\"name\":\"ResetTool\",\"id\":\"p1331\"}],\"active_drag\":{\"id\":\"p1328\"},\"active_scroll\":{\"id\":\"p1288\"}}},\"left\":[{\"type\":\"object\",\"name\":\"LinearAxis\",\"id\":\"p1322\",\"attributes\":{\"ticker\":{\"type\":\"object\",\"name\":\"BasicTicker\",\"id\":\"p1323\",\"attributes\":{\"mantissas\":[1,2,5]}},\"formatter\":{\"type\":\"object\",\"name\":\"BasicTickFormatter\",\"id\":\"p1324\"},\"axis_label\":\"\",\"major_label_policy\":{\"type\":\"object\",\"name\":\"AllLabels\",\"id\":\"p1325\"}}}],\"right\":[{\"type\":\"object\",\"name\":\"Legend\",\"id\":\"p1344\",\"attributes\":{\"location\":[0,0],\"title\":\"Variable\",\"click_policy\":\"mute\",\"items\":[{\"type\":\"object\",\"name\":\"LegendItem\",\"id\":\"p1345\",\"attributes\":{\"label\":{\"type\":\"value\",\"value\":\"close\"},\"renderers\":[{\"id\":\"p1341\"}]}},{\"type\":\"object\",\"name\":\"LegendItem\",\"id\":\"p1359\",\"attributes\":{\"label\":{\"type\":\"value\",\"value\":\"trend-worldwide\"},\"renderers\":[{\"id\":\"p1356\"}]}}]}}],\"below\":[{\"type\":\"object\",\"name\":\"DatetimeAxis\",\"id\":\"p1305\",\"attributes\":{\"ticker\":{\"type\":\"object\",\"name\":\"DatetimeTicker\",\"id\":\"p1306\",\"attributes\":{\"num_minor_ticks\":5,\"tickers\":[{\"type\":\"object\",\"name\":\"AdaptiveTicker\",\"id\":\"p1307\",\"attributes\":{\"num_minor_ticks\":0,\"mantissas\":[1,2,5],\"max_interval\":500.0}},{\"type\":\"object\",\"name\":\"AdaptiveTicker\",\"id\":\"p1308\",\"attributes\":{\"num_minor_ticks\":0,\"base\":60,\"mantissas\":[1,2,5,10,15,20,30],\"min_interval\":1000.0,\"max_interval\":1800000.0}},{\"type\":\"object\",\"name\":\"AdaptiveTicker\",\"id\":\"p1309\",\"attributes\":{\"num_minor_ticks\":0,\"base\":24,\"mantissas\":[1,2,4,6,8,12],\"min_interval\":3600000.0,\"max_interval\":43200000.0}},{\"type\":\"object\",\"name\":\"DaysTicker\",\"id\":\"p1310\",\"attributes\":{\"days\":[1,2,3,4,5,6,7,8,9,10,11,12,13,14,15,16,17,18,19,20,21,22,23,24,25,26,27,28,29,30,31]}},{\"type\":\"object\",\"name\":\"DaysTicker\",\"id\":\"p1311\",\"attributes\":{\"days\":[1,4,7,10,13,16,19,22,25,28]}},{\"type\":\"object\",\"name\":\"DaysTicker\",\"id\":\"p1312\",\"attributes\":{\"days\":[1,8,15,22]}},{\"type\":\"object\",\"name\":\"DaysTicker\",\"id\":\"p1313\",\"attributes\":{\"days\":[1,15]}},{\"type\":\"object\",\"name\":\"MonthsTicker\",\"id\":\"p1314\",\"attributes\":{\"months\":[0,1,2,3,4,5,6,7,8,9,10,11]}},{\"type\":\"object\",\"name\":\"MonthsTicker\",\"id\":\"p1315\",\"attributes\":{\"months\":[0,2,4,6,8,10]}},{\"type\":\"object\",\"name\":\"MonthsTicker\",\"id\":\"p1316\",\"attributes\":{\"months\":[0,4,8]}},{\"type\":\"object\",\"name\":\"MonthsTicker\",\"id\":\"p1317\",\"attributes\":{\"months\":[0,6]}},{\"type\":\"object\",\"name\":\"YearsTicker\",\"id\":\"p1318\"}]}},\"formatter\":{\"type\":\"object\",\"name\":\"DatetimeTickFormatter\",\"id\":\"p1319\"},\"axis_label\":\"date\",\"major_label_policy\":{\"type\":\"object\",\"name\":\"AllLabels\",\"id\":\"p1320\"}}}],\"center\":[{\"type\":\"object\",\"name\":\"Grid\",\"id\":\"p1321\",\"attributes\":{\"axis\":{\"id\":\"p1305\"},\"grid_line_color\":null}},{\"type\":\"object\",\"name\":\"Grid\",\"id\":\"p1326\",\"attributes\":{\"dimension\":1,\"axis\":{\"id\":\"p1322\"},\"grid_line_color\":null}}],\"min_border_top\":10,\"min_border_bottom\":10,\"min_border_left\":10,\"min_border_right\":10,\"output_backend\":\"webgl\"}},{\"type\":\"object\",\"name\":\"Spacer\",\"id\":\"p1362\",\"attributes\":{\"name\":\"HSpacer01451\",\"stylesheets\":[\"\\n:host(.pn-loading.pn-arc):before, .pn-loading.pn-arc:before {\\n  background-image: url(\\\"data:image/svg+xml;base64,PHN2ZyB4bWxucz0iaHR0cDovL3d3dy53My5vcmcvMjAwMC9zdmciIHN0eWxlPSJtYXJnaW46IGF1dG87IGJhY2tncm91bmQ6IG5vbmU7IGRpc3BsYXk6IGJsb2NrOyBzaGFwZS1yZW5kZXJpbmc6IGF1dG87IiB2aWV3Qm94PSIwIDAgMTAwIDEwMCIgcHJlc2VydmVBc3BlY3RSYXRpbz0ieE1pZFlNaWQiPiAgPGNpcmNsZSBjeD0iNTAiIGN5PSI1MCIgZmlsbD0ibm9uZSIgc3Ryb2tlPSIjYzNjM2MzIiBzdHJva2Utd2lkdGg9IjEwIiByPSIzNSIgc3Ryb2tlLWRhc2hhcnJheT0iMTY0LjkzMzYxNDMxMzQ2NDE1IDU2Ljk3Nzg3MTQzNzgyMTM4Ij4gICAgPGFuaW1hdGVUcmFuc2Zvcm0gYXR0cmlidXRlTmFtZT0idHJhbnNmb3JtIiB0eXBlPSJyb3RhdGUiIHJlcGVhdENvdW50PSJpbmRlZmluaXRlIiBkdXI9IjFzIiB2YWx1ZXM9IjAgNTAgNTA7MzYwIDUwIDUwIiBrZXlUaW1lcz0iMDsxIj48L2FuaW1hdGVUcmFuc2Zvcm0+ICA8L2NpcmNsZT48L3N2Zz4=\\\");\\n  background-size: auto calc(min(50%, 400px));\\n}\",{\"id\":\"p1281\"},{\"id\":\"p1279\"},{\"id\":\"p1280\"}],\"margin\":0,\"sizing_mode\":\"stretch_width\",\"align\":\"start\"}}]}}],\"defs\":[{\"type\":\"model\",\"name\":\"ReactiveHTML1\"},{\"type\":\"model\",\"name\":\"FlexBox1\",\"properties\":[{\"name\":\"align_content\",\"kind\":\"Any\",\"default\":\"flex-start\"},{\"name\":\"align_items\",\"kind\":\"Any\",\"default\":\"flex-start\"},{\"name\":\"flex_direction\",\"kind\":\"Any\",\"default\":\"row\"},{\"name\":\"flex_wrap\",\"kind\":\"Any\",\"default\":\"wrap\"},{\"name\":\"justify_content\",\"kind\":\"Any\",\"default\":\"flex-start\"}]},{\"type\":\"model\",\"name\":\"FloatPanel1\",\"properties\":[{\"name\":\"config\",\"kind\":\"Any\",\"default\":{\"type\":\"map\"}},{\"name\":\"contained\",\"kind\":\"Any\",\"default\":true},{\"name\":\"position\",\"kind\":\"Any\",\"default\":\"right-top\"},{\"name\":\"offsetx\",\"kind\":\"Any\",\"default\":null},{\"name\":\"offsety\",\"kind\":\"Any\",\"default\":null},{\"name\":\"theme\",\"kind\":\"Any\",\"default\":\"primary\"},{\"name\":\"status\",\"kind\":\"Any\",\"default\":\"normalized\"}]},{\"type\":\"model\",\"name\":\"GridStack1\",\"properties\":[{\"name\":\"mode\",\"kind\":\"Any\",\"default\":\"warn\"},{\"name\":\"ncols\",\"kind\":\"Any\",\"default\":null},{\"name\":\"nrows\",\"kind\":\"Any\",\"default\":null},{\"name\":\"allow_resize\",\"kind\":\"Any\",\"default\":true},{\"name\":\"allow_drag\",\"kind\":\"Any\",\"default\":true},{\"name\":\"state\",\"kind\":\"Any\",\"default\":[]}]},{\"type\":\"model\",\"name\":\"drag1\",\"properties\":[{\"name\":\"slider_width\",\"kind\":\"Any\",\"default\":5},{\"name\":\"slider_color\",\"kind\":\"Any\",\"default\":\"black\"},{\"name\":\"value\",\"kind\":\"Any\",\"default\":50}]},{\"type\":\"model\",\"name\":\"click1\",\"properties\":[{\"name\":\"terminal_output\",\"kind\":\"Any\",\"default\":\"\"},{\"name\":\"debug_name\",\"kind\":\"Any\",\"default\":\"\"},{\"name\":\"clears\",\"kind\":\"Any\",\"default\":0}]},{\"type\":\"model\",\"name\":\"FastWrapper1\",\"properties\":[{\"name\":\"object\",\"kind\":\"Any\",\"default\":null},{\"name\":\"style\",\"kind\":\"Any\",\"default\":null}]},{\"type\":\"model\",\"name\":\"NotificationAreaBase1\",\"properties\":[{\"name\":\"js_events\",\"kind\":\"Any\",\"default\":{\"type\":\"map\"}},{\"name\":\"position\",\"kind\":\"Any\",\"default\":\"bottom-right\"},{\"name\":\"_clear\",\"kind\":\"Any\",\"default\":0}]},{\"type\":\"model\",\"name\":\"NotificationArea1\",\"properties\":[{\"name\":\"js_events\",\"kind\":\"Any\",\"default\":{\"type\":\"map\"}},{\"name\":\"notifications\",\"kind\":\"Any\",\"default\":[]},{\"name\":\"position\",\"kind\":\"Any\",\"default\":\"bottom-right\"},{\"name\":\"_clear\",\"kind\":\"Any\",\"default\":0},{\"name\":\"types\",\"kind\":\"Any\",\"default\":[{\"type\":\"map\",\"entries\":[[\"type\",\"warning\"],[\"background\",\"#ffc107\"],[\"icon\",{\"type\":\"map\",\"entries\":[[\"className\",\"fas fa-exclamation-triangle\"],[\"tagName\",\"i\"],[\"color\",\"white\"]]}]]},{\"type\":\"map\",\"entries\":[[\"type\",\"info\"],[\"background\",\"#007bff\"],[\"icon\",{\"type\":\"map\",\"entries\":[[\"className\",\"fas fa-info-circle\"],[\"tagName\",\"i\"],[\"color\",\"white\"]]}]]}]}]},{\"type\":\"model\",\"name\":\"Notification\",\"properties\":[{\"name\":\"background\",\"kind\":\"Any\",\"default\":null},{\"name\":\"duration\",\"kind\":\"Any\",\"default\":3000},{\"name\":\"icon\",\"kind\":\"Any\",\"default\":null},{\"name\":\"message\",\"kind\":\"Any\",\"default\":\"\"},{\"name\":\"notification_type\",\"kind\":\"Any\",\"default\":null},{\"name\":\"_destroyed\",\"kind\":\"Any\",\"default\":false}]},{\"type\":\"model\",\"name\":\"TemplateActions1\",\"properties\":[{\"name\":\"open_modal\",\"kind\":\"Any\",\"default\":0},{\"name\":\"close_modal\",\"kind\":\"Any\",\"default\":0}]},{\"type\":\"model\",\"name\":\"BootstrapTemplateActions1\",\"properties\":[{\"name\":\"open_modal\",\"kind\":\"Any\",\"default\":0},{\"name\":\"close_modal\",\"kind\":\"Any\",\"default\":0}]},{\"type\":\"model\",\"name\":\"MaterialTemplateActions1\",\"properties\":[{\"name\":\"open_modal\",\"kind\":\"Any\",\"default\":0},{\"name\":\"close_modal\",\"kind\":\"Any\",\"default\":0}]}]}};\n",
       "  var render_items = [{\"docid\":\"60418792-04a8-4de1-aeea-c406136b6463\",\"roots\":{\"p1278\":\"d3767266-fdef-4882-9932-a4e57453bf8c\"},\"root_ids\":[\"p1278\"]}];\n",
       "  var docs = Object.values(docs_json)\n",
       "  if (!docs) {\n",
       "    return\n",
       "  }\n",
       "  const py_version = docs[0].version.replace('rc', '-rc.').replace('.dev', '-dev.')\n",
       "  const is_dev = py_version.indexOf(\"+\") !== -1 || py_version.indexOf(\"-\") !== -1\n",
       "  function embed_document(root) {\n",
       "    var Bokeh = get_bokeh(root)\n",
       "    Bokeh.embed.embed_items_notebook(docs_json, render_items);\n",
       "    for (const render_item of render_items) {\n",
       "      for (const root_id of render_item.root_ids) {\n",
       "\tconst id_el = document.getElementById(root_id)\n",
       "\tif (id_el.children.length && (id_el.children[0].className === 'bk-root')) {\n",
       "\t  const root_el = id_el.children[0]\n",
       "\t  root_el.id = root_el.id + '-rendered'\n",
       "\t}\n",
       "      }\n",
       "    }\n",
       "  }\n",
       "  function get_bokeh(root) {\n",
       "    if (root.Bokeh === undefined) {\n",
       "      return null\n",
       "    } else if (root.Bokeh.version !== py_version && !is_dev) {\n",
       "      if (root.Bokeh.versions === undefined || !root.Bokeh.versions.has(py_version)) {\n",
       "\treturn null\n",
       "      }\n",
       "      return root.Bokeh.versions.get(py_version);\n",
       "    } else if (root.Bokeh.version === py_version) {\n",
       "      return root.Bokeh\n",
       "    }\n",
       "    return null\n",
       "  }\n",
       "  function is_loaded(root) {\n",
       "    var Bokeh = get_bokeh(root)\n",
       "    return (Bokeh != null && Bokeh.Panel !== undefined)\n",
       "  }\n",
       "  if (is_loaded(root)) {\n",
       "    embed_document(root);\n",
       "  } else {\n",
       "    var attempts = 0;\n",
       "    var timer = setInterval(function(root) {\n",
       "      if (is_loaded(root)) {\n",
       "        clearInterval(timer);\n",
       "        embed_document(root);\n",
       "      } else if (document.readyState == \"complete\") {\n",
       "        attempts++;\n",
       "        if (attempts > 200) {\n",
       "          clearInterval(timer);\n",
       "\t  var Bokeh = get_bokeh(root)\n",
       "\t  if (Bokeh == null || Bokeh.Panel == null) {\n",
       "            console.warn(\"Panel: ERROR: Unable to run Panel code because Bokeh or Panel library is missing\");\n",
       "\t  } else {\n",
       "\t    console.warn(\"Panel: WARNING: Attempting to render but not all required libraries could be resolved.\")\n",
       "\t    embed_document(root)\n",
       "\t  }\n",
       "        }\n",
       "      }\n",
       "    }, 25, root)\n",
       "  }\n",
       "})(window);</script>"
      ],
      "text/plain": [
       ":NdOverlay   [Variable]\n",
       "   :Curve   [date]   (value)"
      ]
     },
     "execution_count": 22,
     "metadata": {
      "application/vnd.holoviews_exec.v0+json": {
       "id": "p1278"
      }
     },
     "output_type": "execute_result"
    }
   ],
   "source": [
    "# Visualize the df_spotlight DataFrame\n",
    "df_apple_2019_2020.hvplot()\n",
    "\n"
   ]
  },
  {
   "cell_type": "markdown",
   "metadata": {},
   "source": [
    "### Step 4: Before seeking any correlations between these time series, add columns to the `df_apple` DataFrame to analyze the impact of the Google Trends data on the weekly returns and stock volatility, as follows:\n",
    "\n",
    "1. Use the Pandas `shift` function to add a new column that lags the Google Trends data by one period.\n",
    "\n",
    "    > **Hint** Google Trends data is reported every week on Sunday, so you have a weekly period in this time series.\n",
    "\n",
    "2. Use the Pandas `pct_change` function to add a new column that has the weekly price returns.\n",
    "\n",
    "3. Compute the rolling stock volatility for Apple by using the following Pandas method:\n",
    "\n",
    "    `df_apple[\"weekly_volatility\"] = df_apple[\"close\"].pct_change().rolling(window=4).std()`\n"
   ]
  },
  {
   "cell_type": "code",
   "execution_count": 28,
   "metadata": {},
   "outputs": [],
   "source": [
    "# Create a column which lags Google trends by one week\n",
    "# Use the shift function, and move the data down by one row\n",
    "df_apple[\"lagged_trends\"] = df_apple[\"trend-worldwide\"].shift(1)\n",
    "\n"
   ]
  },
  {
   "cell_type": "code",
   "execution_count": 29,
   "metadata": {},
   "outputs": [],
   "source": [
    "# Create a column that contains the Apple weekly return data\n",
    "# Use the pct_change function to calculate the weekly return values\n",
    "df_apple[\"weekly_return\"] = df_apple[\"close\"].pct_change()\n",
    "\n",
    "\n"
   ]
  },
  {
   "cell_type": "code",
   "execution_count": 30,
   "metadata": {},
   "outputs": [],
   "source": [
    "# Create a column of Apple weekly rolling stock volatility \n",
    "# Chain the pct_function, the rolling function and a 4 period window, and the std function \n",
    "# to calculate the standard deviation of the weekly return data\n",
    "df_apple[\"weekly_volatility\"] = df_apple[\"weekly_return\"].rolling(window=4).std() * np.sqrt(52)\n",
    "\n"
   ]
  },
  {
   "cell_type": "code",
   "execution_count": 31,
   "metadata": {},
   "outputs": [
    {
     "data": {
      "text/html": [
       "<div>\n",
       "<style scoped>\n",
       "    .dataframe tbody tr th:only-of-type {\n",
       "        vertical-align: middle;\n",
       "    }\n",
       "\n",
       "    .dataframe tbody tr th {\n",
       "        vertical-align: top;\n",
       "    }\n",
       "\n",
       "    .dataframe thead th {\n",
       "        text-align: right;\n",
       "    }\n",
       "</style>\n",
       "<table border=\"1\" class=\"dataframe\">\n",
       "  <thead>\n",
       "    <tr style=\"text-align: right;\">\n",
       "      <th></th>\n",
       "      <th>close</th>\n",
       "      <th>trend-worldwide</th>\n",
       "      <th>weekly_volatility</th>\n",
       "      <th>weekly_return</th>\n",
       "      <th>lagged_trends</th>\n",
       "    </tr>\n",
       "    <tr>\n",
       "      <th>date</th>\n",
       "      <th></th>\n",
       "      <th></th>\n",
       "      <th></th>\n",
       "      <th></th>\n",
       "      <th></th>\n",
       "    </tr>\n",
       "  </thead>\n",
       "  <tbody>\n",
       "    <tr>\n",
       "      <th>2015-10-23</th>\n",
       "      <td>29.77</td>\n",
       "      <td>32.0</td>\n",
       "      <td>NaN</td>\n",
       "      <td>NaN</td>\n",
       "      <td>NaN</td>\n",
       "    </tr>\n",
       "    <tr>\n",
       "      <th>2015-10-30</th>\n",
       "      <td>29.88</td>\n",
       "      <td>33.0</td>\n",
       "      <td>NaN</td>\n",
       "      <td>0.003695</td>\n",
       "      <td>32.0</td>\n",
       "    </tr>\n",
       "    <tr>\n",
       "      <th>2015-11-06</th>\n",
       "      <td>30.27</td>\n",
       "      <td>32.0</td>\n",
       "      <td>NaN</td>\n",
       "      <td>0.013052</td>\n",
       "      <td>33.0</td>\n",
       "    </tr>\n",
       "    <tr>\n",
       "      <th>2015-11-13</th>\n",
       "      <td>28.09</td>\n",
       "      <td>32.0</td>\n",
       "      <td>NaN</td>\n",
       "      <td>-0.072019</td>\n",
       "      <td>32.0</td>\n",
       "    </tr>\n",
       "    <tr>\n",
       "      <th>2015-11-20</th>\n",
       "      <td>29.83</td>\n",
       "      <td>31.0</td>\n",
       "      <td>0.399258</td>\n",
       "      <td>0.061944</td>\n",
       "      <td>32.0</td>\n",
       "    </tr>\n",
       "  </tbody>\n",
       "</table>\n",
       "</div>"
      ],
      "text/plain": [
       "            close  trend-worldwide  weekly_volatility  weekly_return  \\\n",
       "date                                                                   \n",
       "2015-10-23  29.77             32.0                NaN            NaN   \n",
       "2015-10-30  29.88             33.0                NaN       0.003695   \n",
       "2015-11-06  30.27             32.0                NaN       0.013052   \n",
       "2015-11-13  28.09             32.0                NaN      -0.072019   \n",
       "2015-11-20  29.83             31.0           0.399258       0.061944   \n",
       "\n",
       "            lagged_trends  \n",
       "date                       \n",
       "2015-10-23            NaN  \n",
       "2015-10-30           32.0  \n",
       "2015-11-06           33.0  \n",
       "2015-11-13           32.0  \n",
       "2015-11-20           32.0  "
      ]
     },
     "execution_count": 31,
     "metadata": {},
     "output_type": "execute_result"
    }
   ],
   "source": [
    "# Display the df_apple DataFrame to confirm all columns are present\n",
    "df_apple.head()\n"
   ]
  },
  {
   "cell_type": "markdown",
   "metadata": {},
   "source": [
    "### Step 5: Use the Pandas `corr` function to compute the correlations among the lagged Google Trends data, the price returns, and the stock volatility. Does any predictable relationship exist?"
   ]
  },
  {
   "cell_type": "code",
   "execution_count": 32,
   "metadata": {},
   "outputs": [
    {
     "data": {
      "text/html": [
       "<div>\n",
       "<style scoped>\n",
       "    .dataframe tbody tr th:only-of-type {\n",
       "        vertical-align: middle;\n",
       "    }\n",
       "\n",
       "    .dataframe tbody tr th {\n",
       "        vertical-align: top;\n",
       "    }\n",
       "\n",
       "    .dataframe thead th {\n",
       "        text-align: right;\n",
       "    }\n",
       "</style>\n",
       "<table border=\"1\" class=\"dataframe\">\n",
       "  <thead>\n",
       "    <tr style=\"text-align: right;\">\n",
       "      <th></th>\n",
       "      <th>close</th>\n",
       "      <th>trend-worldwide</th>\n",
       "      <th>weekly_volatility</th>\n",
       "      <th>weekly_return</th>\n",
       "      <th>lagged_trends</th>\n",
       "    </tr>\n",
       "  </thead>\n",
       "  <tbody>\n",
       "    <tr>\n",
       "      <th>close</th>\n",
       "      <td>1.000000</td>\n",
       "      <td>0.249017</td>\n",
       "      <td>0.197668</td>\n",
       "      <td>0.157472</td>\n",
       "      <td>0.249998</td>\n",
       "    </tr>\n",
       "    <tr>\n",
       "      <th>trend-worldwide</th>\n",
       "      <td>0.249017</td>\n",
       "      <td>1.000000</td>\n",
       "      <td>-0.014795</td>\n",
       "      <td>0.019526</td>\n",
       "      <td>0.735369</td>\n",
       "    </tr>\n",
       "    <tr>\n",
       "      <th>weekly_volatility</th>\n",
       "      <td>0.197668</td>\n",
       "      <td>-0.014795</td>\n",
       "      <td>1.000000</td>\n",
       "      <td>0.086676</td>\n",
       "      <td>0.004911</td>\n",
       "    </tr>\n",
       "    <tr>\n",
       "      <th>weekly_return</th>\n",
       "      <td>0.157472</td>\n",
       "      <td>0.019526</td>\n",
       "      <td>0.086676</td>\n",
       "      <td>1.000000</td>\n",
       "      <td>0.026701</td>\n",
       "    </tr>\n",
       "    <tr>\n",
       "      <th>lagged_trends</th>\n",
       "      <td>0.249998</td>\n",
       "      <td>0.735369</td>\n",
       "      <td>0.004911</td>\n",
       "      <td>0.026701</td>\n",
       "      <td>1.000000</td>\n",
       "    </tr>\n",
       "  </tbody>\n",
       "</table>\n",
       "</div>"
      ],
      "text/plain": [
       "                      close  trend-worldwide  weekly_volatility  \\\n",
       "close              1.000000         0.249017           0.197668   \n",
       "trend-worldwide    0.249017         1.000000          -0.014795   \n",
       "weekly_volatility  0.197668        -0.014795           1.000000   \n",
       "weekly_return      0.157472         0.019526           0.086676   \n",
       "lagged_trends      0.249998         0.735369           0.004911   \n",
       "\n",
       "                   weekly_return  lagged_trends  \n",
       "close                   0.157472       0.249998  \n",
       "trend-worldwide         0.019526       0.735369  \n",
       "weekly_volatility       0.086676       0.004911  \n",
       "weekly_return           1.000000       0.026701  \n",
       "lagged_trends           0.026701       1.000000  "
      ]
     },
     "execution_count": 32,
     "metadata": {},
     "output_type": "execute_result"
    }
   ],
   "source": [
    "# Use the corr function to compute the correlation between the lagged Google Trends data, price returns, and stock volatility\n",
    "df_apple.corr()\n",
    "\n"
   ]
  },
  {
   "cell_type": "code",
   "execution_count": null,
   "metadata": {},
   "outputs": [],
   "source": []
  }
 ],
 "metadata": {
  "kernelspec": {
   "display_name": "Python 3",
   "language": "python",
   "name": "python3"
  },
  "language_info": {
   "codemirror_mode": {
    "name": "ipython",
    "version": 3
   },
   "file_extension": ".py",
   "mimetype": "text/x-python",
   "name": "python",
   "nbconvert_exporter": "python",
   "pygments_lexer": "ipython3",
   "version": "3.7.7"
  }
 },
 "nbformat": 4,
 "nbformat_minor": 4
}
